{
  "nbformat": 4,
  "nbformat_minor": 0,
  "metadata": {
    "colab": {
      "name": "Hackerrank.ipynb",
      "provenance": [],
      "collapsed_sections": [],
      "authorship_tag": "ABX9TyPTqaY7rm3ki/P7dX31sUuf",
      "include_colab_link": true
    },
    "kernelspec": {
      "name": "python3",
      "display_name": "Python 3"
    },
    "language_info": {
      "name": "python"
    }
  },
  "cells": [
    {
      "cell_type": "markdown",
      "metadata": {
        "id": "view-in-github",
        "colab_type": "text"
      },
      "source": [
        "<a href=\"https://colab.research.google.com/github/Promodinivenkatakrishnan/python-notebooks/blob/main/Hackerrank.ipynb\" target=\"_parent\"><img src=\"https://colab.research.google.com/assets/colab-badge.svg\" alt=\"Open In Colab\"/></a>"
      ]
    },
    {
      "cell_type": "code",
      "metadata": {
        "colab": {
          "base_uri": "https://localhost:8080/"
        },
        "id": "jc6MVoT5nwoq",
        "outputId": "0e4a60b8-f145-49d4-cf48-4d6c37d8cb47"
      },
      "source": [
        "age= 25\n",
        "name = \"Promodini\"\n",
        "def get_my_data():\n",
        "         global age\n",
        "         global name\n",
        "         return (\"my name is \", name)\n",
        "\n",
        "get_my_data()\n"
      ],
      "execution_count": null,
      "outputs": [
        {
          "output_type": "execute_result",
          "data": {
            "text/plain": [
              "('my name is ', 'Promodini')"
            ]
          },
          "metadata": {},
          "execution_count": 14
        }
      ]
    },
    {
      "cell_type": "code",
      "metadata": {
        "colab": {
          "base_uri": "https://localhost:8080/"
        },
        "id": "v7pNA3UzhQRb",
        "outputId": "99501b61-a7c0-48af-f967-0126c6fa95d0"
      },
      "source": [
        "n = int (input(\"Enter the number\"))"
      ],
      "execution_count": null,
      "outputs": [
        {
          "name": "stdout",
          "output_type": "stream",
          "text": [
            "Enter the number4\n"
          ]
        }
      ]
    },
    {
      "cell_type": "code",
      "metadata": {
        "id": "u3U-7juYordU",
        "colab": {
          "base_uri": "https://localhost:8080/"
        },
        "outputId": "4886dd61-6f68-4d34-c095-4cb4aca081a1"
      },
      "source": [
        "if (n % 2 == 0):\n",
        "    if 2<=n<=5 or n > 20:\n",
        "         print(\"Not Werid\")\n",
        "    elif 6<=n<=20:\n",
        "         print(\"Weird\")  \n",
        "else:\n",
        "  print(\"Weird-odd\")   "
      ],
      "execution_count": null,
      "outputs": [
        {
          "output_type": "stream",
          "name": "stdout",
          "text": [
            "Not Werid\n"
          ]
        }
      ]
    },
    {
      "cell_type": "code",
      "metadata": {
        "colab": {
          "base_uri": "https://localhost:8080/"
        },
        "id": "L728ORFTCE-k",
        "outputId": "b1be951b-e69c-4297-fd29-30f4ad54c006"
      },
      "source": [
        "k= int(input())\n",
        "for m in range(k):\n",
        "      print( m*m)\n"
      ],
      "execution_count": null,
      "outputs": [
        {
          "output_type": "stream",
          "name": "stdout",
          "text": [
            "5\n",
            "0\n",
            "1\n",
            "4\n",
            "9\n",
            "16\n"
          ]
        }
      ]
    },
    {
      "cell_type": "code",
      "metadata": {
        "colab": {
          "base_uri": "https://localhost:8080/"
        },
        "id": "wq9ASmNNDlb2",
        "outputId": "584ebe55-5cf8-4cca-de21-17dac4ad2ae1"
      },
      "source": [
        "\n",
        "\n",
        "def is_leap(year):\n",
        "      if( year % 4== 0)  and (year % 100 == 0 or year % 400 == 100):\n",
        "                                    return True\n",
        "      else:\n",
        "       return False\n",
        "\n",
        "\n",
        "is_leap(year=int (input()))"
      ],
      "execution_count": null,
      "outputs": [
        {
          "name": "stdout",
          "output_type": "stream",
          "text": [
            "2400\n"
          ]
        },
        {
          "output_type": "execute_result",
          "data": {
            "text/plain": [
              "True"
            ]
          },
          "metadata": {},
          "execution_count": 21
        }
      ]
    },
    {
      "cell_type": "code",
      "metadata": {
        "id": "3M8mMa-SE1kG"
      },
      "source": [
        "is_leap(year)"
      ],
      "execution_count": null,
      "outputs": []
    },
    {
      "cell_type": "code",
      "metadata": {
        "colab": {
          "base_uri": "https://localhost:8080/"
        },
        "id": "m0y6s5MFf-7g",
        "outputId": "94f37ab2-deb9-4f1e-e363-a70a0e09fec2"
      },
      "source": [
        "g= int (input())\n",
        "k= []\n",
        "for y in range (1,150):\n",
        "                 if y<=g: \n",
        "                   k.append(y)\n",
        "                   \n",
        "print(k, end)\n"
      ],
      "execution_count": null,
      "outputs": [
        {
          "output_type": "stream",
          "name": "stdout",
          "text": [
            "3\n",
            "[1, 2, 3]\n"
          ]
        }
      ]
    },
    {
      "cell_type": "code",
      "metadata": {
        "id": "jWElX43Ux7Hh",
        "colab": {
          "base_uri": "https://localhost:8080/"
        },
        "outputId": "d17423ba-17c9-41c7-d0ed-a0c204bf652f"
      },
      "source": [
        "no = int (input())\n",
        "array = []\n",
        "print(\"length of array\", no)\n",
        "for ar in range(no):\n",
        "          ar =list (input())\n",
        "          array.append(ar)\n",
        "array.sort(reverse= True)\n",
        "print(array[1])          \n",
        "\n",
        "\n",
        "\n",
        "\n",
        "\n",
        "\n"
      ],
      "execution_count": null,
      "outputs": [
        {
          "output_type": "stream",
          "name": "stdout",
          "text": [
            "5\n",
            "length of array 5\n",
            "2\n",
            "4\n",
            "6\n",
            "9\n",
            "3\n",
            "['6']\n"
          ]
        }
      ]
    },
    {
      "cell_type": "code",
      "metadata": {
        "id": "Hx4f3ZPEpOLP",
        "colab": {
          "base_uri": "https://localhost:8080/",
          "height": 338
        },
        "outputId": "c1b22ee0-5e62-4ee3-c924-91f5e785713e"
      },
      "source": [
        "user = int (input())\n",
        "hi=[]\n",
        "for l in range(user):\n",
        "    name = input()\n",
        "    score= int (input())\n",
        "    hi.append([name,score])\n",
        "    \n",
        "print(hi)\n",
        "list (score)\n",
        ".sort()\n",
        "print(score)\n",
        "print(hi)\n",
        "    "
      ],
      "execution_count": null,
      "outputs": [
        {
          "output_type": "stream",
          "name": "stdout",
          "text": [
            "2\n",
            "pro\n",
            "45\n",
            "kar\n",
            "34\n",
            "[['pro', 45], ['kar', 34]]\n"
          ]
        },
        {
          "output_type": "error",
          "ename": "TypeError",
          "evalue": "ignored",
          "traceback": [
            "\u001b[0;31m---------------------------------------------------------------------------\u001b[0m",
            "\u001b[0;31mTypeError\u001b[0m                                 Traceback (most recent call last)",
            "\u001b[0;32m<ipython-input-3-021ff2eae942>\u001b[0m in \u001b[0;36m<module>\u001b[0;34m()\u001b[0m\n\u001b[1;32m      7\u001b[0m \u001b[0;34m\u001b[0m\u001b[0m\n\u001b[1;32m      8\u001b[0m \u001b[0mprint\u001b[0m\u001b[0;34m(\u001b[0m\u001b[0mhi\u001b[0m\u001b[0;34m)\u001b[0m\u001b[0;34m\u001b[0m\u001b[0;34m\u001b[0m\u001b[0m\n\u001b[0;32m----> 9\u001b[0;31m \u001b[0mlist\u001b[0m \u001b[0;34m(\u001b[0m\u001b[0mscore\u001b[0m\u001b[0;34m)\u001b[0m\u001b[0;34m.\u001b[0m\u001b[0msort\u001b[0m\u001b[0;34m(\u001b[0m\u001b[0;34m)\u001b[0m\u001b[0;34m\u001b[0m\u001b[0;34m\u001b[0m\u001b[0m\n\u001b[0m\u001b[1;32m     10\u001b[0m \u001b[0mprint\u001b[0m\u001b[0;34m(\u001b[0m\u001b[0mscore\u001b[0m\u001b[0;34m)\u001b[0m\u001b[0;34m\u001b[0m\u001b[0;34m\u001b[0m\u001b[0m\n\u001b[1;32m     11\u001b[0m \u001b[0mprint\u001b[0m\u001b[0;34m(\u001b[0m\u001b[0mhi\u001b[0m\u001b[0;34m)\u001b[0m\u001b[0;34m\u001b[0m\u001b[0;34m\u001b[0m\u001b[0m\n",
            "\u001b[0;31mTypeError\u001b[0m: 'int' object is not iterable"
          ]
        }
      ]
    },
    {
      "cell_type": "code",
      "metadata": {
        "colab": {
          "base_uri": "https://localhost:8080/",
          "height": 481
        },
        "id": "AujfIlzXeHqy",
        "outputId": "46c3faa5-dd97-4cd0-cc9a-eeb4feb39d6c"
      },
      "source": [
        "jio= int (input())\n",
        "fig = {}\n",
        "maxAvg = 0.0 \n",
        "for ji in range(jio):\n",
        "  name = input()\n",
        "  value = list (input().split(' '))\n",
        "  print(value)\n",
        "  valueList = [int(i) for i in value]\n",
        "  print(valueList)\n",
        "  totalSum = sum(valueList)\n",
        "  listLength = len(value)\n",
        "  print(totalSum)\n",
        "  print(listLength)\n",
        "  avg = totalSum/listLength\n",
        "  print(avg)\n",
        "  if avg > maxAvg:\n",
        "    maxAvg = value\n",
        "  fig.update({name:value})\n",
        "\n",
        "print(fig)\n",
        "print(maxAvg)\n"
      ],
      "execution_count": null,
      "outputs": [
        {
          "output_type": "stream",
          "name": "stdout",
          "text": [
            "2\n",
            "Karthick\n",
            "25 46\n",
            "['25', '46']\n",
            "[25, 46]\n",
            "71\n",
            "2\n",
            "35.5\n",
            "Promo\n",
            "37 29\n",
            "['37', '29']\n",
            "[37, 29]\n",
            "66\n",
            "2\n",
            "33.0\n"
          ]
        },
        {
          "output_type": "error",
          "ename": "TypeError",
          "evalue": "ignored",
          "traceback": [
            "\u001b[0;31m---------------------------------------------------------------------------\u001b[0m",
            "\u001b[0;31mTypeError\u001b[0m                                 Traceback (most recent call last)",
            "\u001b[0;32m<ipython-input-18-09f6d1a07ea0>\u001b[0m in \u001b[0;36m<module>\u001b[0;34m()\u001b[0m\n\u001b[1;32m     14\u001b[0m   \u001b[0mavg\u001b[0m \u001b[0;34m=\u001b[0m \u001b[0mtotalSum\u001b[0m\u001b[0;34m/\u001b[0m\u001b[0mlistLength\u001b[0m\u001b[0;34m\u001b[0m\u001b[0;34m\u001b[0m\u001b[0m\n\u001b[1;32m     15\u001b[0m   \u001b[0mprint\u001b[0m\u001b[0;34m(\u001b[0m\u001b[0mavg\u001b[0m\u001b[0;34m)\u001b[0m\u001b[0;34m\u001b[0m\u001b[0;34m\u001b[0m\u001b[0m\n\u001b[0;32m---> 16\u001b[0;31m   \u001b[0;32mif\u001b[0m \u001b[0mavg\u001b[0m \u001b[0;34m>\u001b[0m \u001b[0mmaxAvg\u001b[0m\u001b[0;34m:\u001b[0m\u001b[0;34m\u001b[0m\u001b[0;34m\u001b[0m\u001b[0m\n\u001b[0m\u001b[1;32m     17\u001b[0m     \u001b[0mmaxAvg\u001b[0m \u001b[0;34m=\u001b[0m \u001b[0mvalue\u001b[0m\u001b[0;34m\u001b[0m\u001b[0;34m\u001b[0m\u001b[0m\n\u001b[1;32m     18\u001b[0m   \u001b[0mfig\u001b[0m\u001b[0;34m.\u001b[0m\u001b[0mupdate\u001b[0m\u001b[0;34m(\u001b[0m\u001b[0;34m{\u001b[0m\u001b[0mname\u001b[0m\u001b[0;34m:\u001b[0m\u001b[0mvalue\u001b[0m\u001b[0;34m}\u001b[0m\u001b[0;34m)\u001b[0m\u001b[0;34m\u001b[0m\u001b[0;34m\u001b[0m\u001b[0m\n",
            "\u001b[0;31mTypeError\u001b[0m: '>' not supported between instances of 'float' and 'list'"
          ]
        }
      ]
    },
    {
      "cell_type": "code",
      "metadata": {
        "id": "5Kcx57OUVgPn"
      },
      "source": [
        "def insert():\n",
        "   N= int (input(\"Enter the number of digits\"))\n",
        "   for y in range(N):\n",
        "        l=int (input(\"enter the position\"))\n",
        "        m= int(input(\"enter the Number\"))\n",
        "        print(\"insert\",l),print(m)\n",
        "\n"
      ],
      "execution_count": null,
      "outputs": []
    },
    {
      "cell_type": "code",
      "metadata": {
        "id": "bWxRud7TN4vQ"
      },
      "source": [
        "def pop():\n",
        "  ui= int (input(\" Insert the position\"))\n",
        "  be= int ( input(\"enter the number\"))\n",
        "  if ui in l:\n",
        "    print(\"Yes this position is already available\")"
      ],
      "execution_count": null,
      "outputs": []
    },
    {
      "cell_type": "code",
      "metadata": {
        "id": "oA9tKpEbcjbG"
      },
      "source": [
        "def append():\n",
        "   fe= int (input(\"Enter the position\"))\n",
        "   guy= int (input(\"Enter the number\"))\n",
        "   "
      ],
      "execution_count": null,
      "outputs": []
    },
    {
      "cell_type": "code",
      "metadata": {
        "id": "KNZShXsJdWea",
        "colab": {
          "base_uri": "https://localhost:8080/",
          "height": 363
        },
        "outputId": "5806a467-54c9-4383-f8d9-87ea8913aa9d"
      },
      "source": [
        "\n",
        "print(\"There are few options 1.Insert, 2.pop\")\n",
        "kiw= input()\n",
        "if (kiw == '1'):\n",
        "       insert()\n",
        "elif (kiw=='2'):\n",
        "        pop()\n"
      ],
      "execution_count": null,
      "outputs": [
        {
          "name": "stdout",
          "output_type": "stream",
          "text": [
            "There are few options 1.Insert, 2.pop\n",
            "2\n",
            " Insert the position0\n",
            "enter the number1\n"
          ]
        },
        {
          "output_type": "error",
          "ename": "NameError",
          "evalue": "ignored",
          "traceback": [
            "\u001b[0;31m---------------------------------------------------------------------------\u001b[0m",
            "\u001b[0;31mNameError\u001b[0m                                 Traceback (most recent call last)",
            "\u001b[0;32m<ipython-input-14-3992736feb89>\u001b[0m in \u001b[0;36m<module>\u001b[0;34m()\u001b[0m\n\u001b[1;32m      5\u001b[0m        \u001b[0minsert\u001b[0m\u001b[0;34m(\u001b[0m\u001b[0;34m)\u001b[0m\u001b[0;34m\u001b[0m\u001b[0;34m\u001b[0m\u001b[0m\n\u001b[1;32m      6\u001b[0m \u001b[0;32melif\u001b[0m \u001b[0;34m(\u001b[0m\u001b[0mkiw\u001b[0m\u001b[0;34m==\u001b[0m\u001b[0;34m'2'\u001b[0m\u001b[0;34m)\u001b[0m\u001b[0;34m:\u001b[0m\u001b[0;34m\u001b[0m\u001b[0;34m\u001b[0m\u001b[0m\n\u001b[0;32m----> 7\u001b[0;31m         \u001b[0mpop\u001b[0m\u001b[0;34m(\u001b[0m\u001b[0;34m)\u001b[0m\u001b[0;34m\u001b[0m\u001b[0;34m\u001b[0m\u001b[0m\n\u001b[0m",
            "\u001b[0;32m<ipython-input-12-48d318ca67f1>\u001b[0m in \u001b[0;36mpop\u001b[0;34m()\u001b[0m\n\u001b[1;32m      2\u001b[0m   \u001b[0mui\u001b[0m\u001b[0;34m=\u001b[0m \u001b[0mint\u001b[0m \u001b[0;34m(\u001b[0m\u001b[0minput\u001b[0m\u001b[0;34m(\u001b[0m\u001b[0;34m\" Insert the position\"\u001b[0m\u001b[0;34m)\u001b[0m\u001b[0;34m)\u001b[0m\u001b[0;34m\u001b[0m\u001b[0;34m\u001b[0m\u001b[0m\n\u001b[1;32m      3\u001b[0m   \u001b[0mbe\u001b[0m\u001b[0;34m=\u001b[0m \u001b[0mint\u001b[0m \u001b[0;34m(\u001b[0m \u001b[0minput\u001b[0m\u001b[0;34m(\u001b[0m\u001b[0;34m\"enter the number\"\u001b[0m\u001b[0;34m)\u001b[0m\u001b[0;34m)\u001b[0m\u001b[0;34m\u001b[0m\u001b[0;34m\u001b[0m\u001b[0m\n\u001b[0;32m----> 4\u001b[0;31m   \u001b[0;32mif\u001b[0m \u001b[0mui\u001b[0m \u001b[0;32min\u001b[0m \u001b[0ml\u001b[0m\u001b[0;34m:\u001b[0m\u001b[0;34m\u001b[0m\u001b[0;34m\u001b[0m\u001b[0m\n\u001b[0m\u001b[1;32m      5\u001b[0m     \u001b[0mprint\u001b[0m\u001b[0;34m(\u001b[0m\u001b[0;34m\"Yes this position is already available\"\u001b[0m\u001b[0;34m)\u001b[0m\u001b[0;34m\u001b[0m\u001b[0;34m\u001b[0m\u001b[0m\n",
            "\u001b[0;31mNameError\u001b[0m: name 'l' is not defined"
          ]
        }
      ]
    }
  ]
}