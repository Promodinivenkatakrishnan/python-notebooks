{
  "nbformat": 4,
  "nbformat_minor": 0,
  "metadata": {
    "colab": {
      "name": "Copy of H1BProcessing.ipynb",
      "provenance": [],
      "collapsed_sections": []
    },
    "kernelspec": {
      "name": "python3",
      "display_name": "Python 3"
    }
  },
  "cells": [
    {
      "cell_type": "code",
      "metadata": {
        "id": "gpyD2PORPYh1"
      },
      "source": [
        "import matplotlib.pyplot as plt\n",
        "import pandas      as pd\n",
        "import numpy       as np\n",
        "import seaborn as sns\n",
        "import sklearn"
      ],
      "execution_count": null,
      "outputs": []
    },
    {
      "cell_type": "code",
      "metadata": {
        "id": "kpykk4RtVaYW",
        "colab": {
          "base_uri": "https://localhost:8080/"
        },
        "outputId": "93e73600-4719-403a-e541-b3138acdb138"
      },
      "source": [
        "from google.colab import drive\n",
        "drive.mount(\"/content/gdrive\")"
      ],
      "execution_count": null,
      "outputs": [
        {
          "output_type": "stream",
          "text": [
            "Mounted at /content/gdrive\n"
          ],
          "name": "stdout"
        }
      ]
    },
    {
      "cell_type": "code",
      "metadata": {
        "id": "EAQorcugVc0L",
        "colab": {
          "base_uri": "https://localhost:8080/"
        },
        "outputId": "9ce7cc1e-b0b2-40c5-ed12-aa936fd82a0a"
      },
      "source": [
        "h1bdf = pd.read_csv(r'/content/gdrive/My Drive/H1B Dataset2.csv', encoding='ISO-8859-1')"
      ],
      "execution_count": null,
      "outputs": [
        {
          "output_type": "stream",
          "text": [
            "/usr/local/lib/python3.6/dist-packages/IPython/core/interactiveshell.py:2718: DtypeWarning: Columns (25) have mixed types.Specify dtype option on import or set low_memory=False.\n",
            "  interactivity=interactivity, compiler=compiler, result=result)\n"
          ],
          "name": "stderr"
        }
      ]
    },
    {
      "cell_type": "code",
      "metadata": {
        "id": "n4b5DDy0VkmB",
        "colab": {
          "base_uri": "https://localhost:8080/"
        },
        "outputId": "02aa466a-1da4-4031-8d15-6a527dbcbdee"
      },
      "source": [
        "h1bdf.shape"
      ],
      "execution_count": null,
      "outputs": [
        {
          "output_type": "execute_result",
          "data": {
            "text/plain": [
              "(528134, 27)"
            ]
          },
          "metadata": {
            "tags": []
          },
          "execution_count": 5
        }
      ]
    },
    {
      "cell_type": "code",
      "metadata": {
        "id": "4kz2zVELVzN0"
      },
      "source": [
        "h1bdf.dropna(inplace=True)"
      ],
      "execution_count": null,
      "outputs": []
    },
    {
      "cell_type": "code",
      "metadata": {
        "id": "gxN7gzqQV1IO",
        "colab": {
          "base_uri": "https://localhost:8080/"
        },
        "outputId": "6272c185-d824-4df8-9a87-8b6dda18f56a"
      },
      "source": [
        "h1bdf.shape"
      ],
      "execution_count": null,
      "outputs": [
        {
          "output_type": "execute_result",
          "data": {
            "text/plain": [
              "(517745, 27)"
            ]
          },
          "metadata": {
            "tags": []
          },
          "execution_count": 7
        }
      ]
    },
    {
      "cell_type": "code",
      "metadata": {
        "id": "9VYT9yd7WeN8",
        "colab": {
          "base_uri": "https://localhost:8080/"
        },
        "outputId": "2f98ace4-fa4c-4e88-f3f2-813fc9b09b9f"
      },
      "source": [
        "h1bdf.VISA_CLASS.value_counts()"
      ],
      "execution_count": null,
      "outputs": [
        {
          "output_type": "execute_result",
          "data": {
            "text/plain": [
              "H1B               517265\n",
              "E3 Australian        363\n",
              "H1B1 Singapore        61\n",
              "H1B1 Chile            56\n",
              "Name: VISA_CLASS, dtype: int64"
            ]
          },
          "metadata": {
            "tags": []
          },
          "execution_count": 8
        }
      ]
    },
    {
      "cell_type": "code",
      "metadata": {
        "id": "8qPvoeVZm7IM",
        "colab": {
          "base_uri": "https://localhost:8080/"
        },
        "outputId": "9c12a331-6c40-4f93-c299-d6fabd0ac1ff"
      },
      "source": [
        "h1bdf.SOC_NAME.value_counts()"
      ],
      "execution_count": null,
      "outputs": [
        {
          "output_type": "execute_result",
          "data": {
            "text/plain": [
              "COMPUTER OCCUPATION                  240883\n",
              "ANALYSTS                             110624\n",
              "ENGINEERS                             43373\n",
              "SCIENTIST                             17440\n",
              "FINANCE                               12934\n",
              "DOCTORS                               12750\n",
              "EDUCATION                             12088\n",
              "ACCOUNTANTS                           10530\n",
              "MARKETING                             10393\n",
              "IT MANAGERS                            6008\n",
              "MANAGERS                               5035\n",
              "MATHEMATICIANS AND STATISTICIANS       4951\n",
              "HUMAN RESOURCES                        3055\n",
              "ARCHITECTURE                           2336\n",
              "LAWYERS AND LEGAL SUPPORT WORKERS      2180\n",
              "DESIGNERS                              2019\n",
              "LAB TECHNICIANS                        2003\n",
              "GRAPHIC DESIGNERS                      1959\n",
              "LOGISTICIANS                           1738\n",
              "HEALTHCARE                             1683\n",
              "INTERNIST                              1492\n",
              "PUBLIC RELATIONS                       1089\n",
              "BUSINESS OPERATIONS SPECIALIST          931\n",
              "ECONOMISTS                              884\n",
              "WRITERS EDITORS AND AUTHORS             865\n",
              "CONSTRUCTION                            849\n",
              "ENTERTAINMENT                           752\n",
              "ACTUARIES                               596\n",
              "CHIEF EXECUTIVES                        592\n",
              "COUNSELORS                              518\n",
              "MULTIMEDIA ARTISTS AND ANIMATORS        514\n",
              "ANIMAL HUSBANDARY                       514\n",
              "SALES AND RELATED WORKERS               391\n",
              "AGRICULTURE                             354\n",
              "FASHION DESIGNERS                       323\n",
              "FOOD PREPARATION WORKERS                286\n",
              "SOCIAL WORKERS                          283\n",
              "REAL ESTATE                             272\n",
              "COACHES AND SCOUTS                      266\n",
              "ENGINEERS                               232\n",
              "REPORTERS AND CORRESPONDENTS            215\n",
              "EVENT PLANNERS                          212\n",
              "INTERPRETERS AND TRANSLATORS            202\n",
              "MECHANICS                               155\n",
              "SURVEYORS                               155\n",
              "CURATORS                                151\n",
              "COMMUNICATIONS                          125\n",
              "INSURANCE                                98\n",
              "OFFICE CLERKS                            91\n",
              "RELIGIOUS WORKERS                        84\n",
              "MANAGEMENT                               68\n",
              "FITNESS TRAINERS                         66\n",
              "LIBRARIANS                               56\n",
              "FIRST LINE SUPERVISORS                   43\n",
              "TRANSPORTATION                           30\n",
              "HISTORIANS                                9\n",
              "Name: SOC_NAME, dtype: int64"
            ]
          },
          "metadata": {
            "tags": []
          },
          "execution_count": 9
        }
      ]
    },
    {
      "cell_type": "code",
      "metadata": {
        "id": "Y_UGAvv-XvS5",
        "colab": {
          "base_uri": "https://localhost:8080/"
        },
        "outputId": "72705454-9c77-418e-a9d6-c1783bc9f66f"
      },
      "source": [
        "indexNames = h1bdf[h1bdf['VISA_CLASS'] == 'E3 Australian'].index\n",
        "indexNames"
      ],
      "execution_count": null,
      "outputs": [
        {
          "output_type": "execute_result",
          "data": {
            "text/plain": [
              "Int64Index([  2904,   3125,   3812,   4010,   4063,   4065,   4338,   4690,\n",
              "              5028,   5536,\n",
              "            ...\n",
              "            521790, 521794, 522487, 523440, 524108, 524135, 526570, 527052,\n",
              "            527583, 527982],\n",
              "           dtype='int64', length=363)"
            ]
          },
          "metadata": {
            "tags": []
          },
          "execution_count": 10
        }
      ]
    },
    {
      "cell_type": "code",
      "metadata": {
        "id": "exh-zWH9W-Ep"
      },
      "source": [
        "h1bdf.drop(indexNames , inplace=True)\n"
      ],
      "execution_count": null,
      "outputs": []
    },
    {
      "cell_type": "code",
      "metadata": {
        "id": "e_pAHMemYCgf",
        "colab": {
          "base_uri": "https://localhost:8080/"
        },
        "outputId": "a96fef0a-8ad7-4ac1-98a5-55a658629241"
      },
      "source": [
        "indexNames = h1bdf[h1bdf['VISA_CLASS'] == 'H1B1 Singapore'].index\n",
        "indexNames"
      ],
      "execution_count": null,
      "outputs": [
        {
          "output_type": "execute_result",
          "data": {
            "text/plain": [
              "Int64Index([  7302,   8510,  32551,  51778,  54250,  54251,  55352,  56249,\n",
              "             65388,  68023,  72225,  78169,  89423,  97101,  98352, 105594,\n",
              "            108785, 109112, 111750, 112293, 113358, 113359, 117004, 119736,\n",
              "            121892, 123153, 123852, 145276, 151317, 155350, 213303, 213343,\n",
              "            230793, 240011, 341743, 344970, 346390, 354317, 400052, 409631,\n",
              "            415925, 422704, 429784, 437673, 440482, 450386, 460178, 479379,\n",
              "            481959, 483083, 483939, 490840, 494421, 496690, 497845, 500312,\n",
              "            501449, 516290, 516482, 516498, 525801],\n",
              "           dtype='int64')"
            ]
          },
          "metadata": {
            "tags": []
          },
          "execution_count": 12
        }
      ]
    },
    {
      "cell_type": "code",
      "metadata": {
        "id": "QxLLsvzBYKRZ"
      },
      "source": [
        "h1bdf.drop(indexNames , inplace=True)\n"
      ],
      "execution_count": null,
      "outputs": []
    },
    {
      "cell_type": "code",
      "metadata": {
        "id": "1inG314PYPof",
        "colab": {
          "base_uri": "https://localhost:8080/"
        },
        "outputId": "b8557f99-4f05-40fa-c611-d501e156e168"
      },
      "source": [
        "indexNames = h1bdf[h1bdf['VISA_CLASS'] == 'H1B1 Chile'].index\n",
        "indexNames"
      ],
      "execution_count": null,
      "outputs": [
        {
          "output_type": "execute_result",
          "data": {
            "text/plain": [
              "Int64Index([  6708,   7080,   8291,  16256,  19881,  23063,  28763,  29265,\n",
              "             30599,  36228,  49710,  54623,  55036,  60849,  68928,  77181,\n",
              "             89623,  93644,  93645,  94399, 104395, 106191, 112779, 114926,\n",
              "            123594, 129805, 136010, 138868, 139523, 152213, 207527, 211339,\n",
              "            229131, 301915, 342907, 379190, 379191, 405475, 414544, 418530,\n",
              "            420643, 421577, 429036, 456477, 457791, 466290, 472153, 481515,\n",
              "            483555, 483581, 486440, 490225, 491440, 492720, 506686, 521974],\n",
              "           dtype='int64')"
            ]
          },
          "metadata": {
            "tags": []
          },
          "execution_count": 14
        }
      ]
    },
    {
      "cell_type": "code",
      "metadata": {
        "id": "cilZxHD1YQUQ"
      },
      "source": [
        "h1bdf.drop(indexNames , inplace=True)\n"
      ],
      "execution_count": null,
      "outputs": []
    },
    {
      "cell_type": "code",
      "metadata": {
        "id": "cejuWtDtXK0U",
        "colab": {
          "base_uri": "https://localhost:8080/"
        },
        "outputId": "aeeef25c-a2ea-403b-98a5-ea1b0192317b"
      },
      "source": [
        "h1bdf.shape"
      ],
      "execution_count": null,
      "outputs": [
        {
          "output_type": "execute_result",
          "data": {
            "text/plain": [
              "(517265, 27)"
            ]
          },
          "metadata": {
            "tags": []
          },
          "execution_count": 16
        }
      ]
    },
    {
      "cell_type": "code",
      "metadata": {
        "id": "L3G2R72JYvsO",
        "colab": {
          "base_uri": "https://localhost:8080/"
        },
        "outputId": "fb614e68-11c9-4fd3-c911-07b99426d2f8"
      },
      "source": [
        "h1bdf['FULL_TIME_POSITION'] = h1bdf['FULL_TIME_POSITION'].replace(['Y'],1)\n",
        "h1bdf['FULL_TIME_POSITION'] = h1bdf['FULL_TIME_POSITION'].replace(['N'],0)\n",
        "#h1bdf.head()\n",
        "h1bdf.FULL_TIME_POSITION.value_counts()"
      ],
      "execution_count": null,
      "outputs": [
        {
          "output_type": "execute_result",
          "data": {
            "text/plain": [
              "1    505467\n",
              "0     11798\n",
              "Name: FULL_TIME_POSITION, dtype: int64"
            ]
          },
          "metadata": {
            "tags": []
          },
          "execution_count": 17
        }
      ]
    },
    {
      "cell_type": "code",
      "metadata": {
        "id": "ZqUCqsJQYz5F",
        "colab": {
          "base_uri": "https://localhost:8080/"
        },
        "outputId": "e01b7806-3c8e-4e50-ec65-faaaaf37ff3f"
      },
      "source": [
        "h1bdf['WILLFUL_VIOLATOR'] = h1bdf['WILLFUL_VIOLATOR'].replace(['Y'],1)\n",
        "h1bdf['WILLFUL_VIOLATOR'] = h1bdf['WILLFUL_VIOLATOR'].replace(['N'],0)\n",
        "#h1bdf.head()\n",
        "h1bdf.WILLFUL_VIOLATOR.value_counts()"
      ],
      "execution_count": null,
      "outputs": [
        {
          "output_type": "execute_result",
          "data": {
            "text/plain": [
              "0    516846\n",
              "1       419\n",
              "Name: WILLFUL_VIOLATOR, dtype: int64"
            ]
          },
          "metadata": {
            "tags": []
          },
          "execution_count": 18
        }
      ]
    },
    {
      "cell_type": "code",
      "metadata": {
        "id": "ZgYel2XHY4Kc",
        "colab": {
          "base_uri": "https://localhost:8080/",
          "height": 167
        },
        "outputId": "62ea8c91-8189-4723-f60a-963eda2f3e70"
      },
      "source": [
        "h1bdf['H-1B_DEPENDENT'] = h1bdf['H-1B_DEPENDENT'].replace(['Y'],1)\n",
        "h1bdf['H-1B_DEPENDENT'] = h1bdf['H-1B_DEPENDENT'].replace(['N'],0)\n",
        "h1bdf.head(2)\n",
        "#h1bdf.H-1B_DEPENDENT.value_counts()"
      ],
      "execution_count": null,
      "outputs": [
        {
          "output_type": "execute_result",
          "data": {
            "text/html": [
              "<div>\n",
              "<style scoped>\n",
              "    .dataframe tbody tr th:only-of-type {\n",
              "        vertical-align: middle;\n",
              "    }\n",
              "\n",
              "    .dataframe tbody tr th {\n",
              "        vertical-align: top;\n",
              "    }\n",
              "\n",
              "    .dataframe thead th {\n",
              "        text-align: right;\n",
              "    }\n",
              "</style>\n",
              "<table border=\"1\" class=\"dataframe\">\n",
              "  <thead>\n",
              "    <tr style=\"text-align: right;\">\n",
              "      <th></th>\n",
              "      <th>CASE_SUBMITTED_DAY</th>\n",
              "      <th>CASE_SUBMITTED_MONTH</th>\n",
              "      <th>CASE_SUBMITTED_YEAR</th>\n",
              "      <th>DECISION_DAY</th>\n",
              "      <th>DECISION_MONTH</th>\n",
              "      <th>DECISION_YEAR</th>\n",
              "      <th>VISA_CLASS</th>\n",
              "      <th>EMPLOYER_NAME</th>\n",
              "      <th>EMPLOYER_STATE</th>\n",
              "      <th>EMPLOYER_COUNTRY</th>\n",
              "      <th>SOC_NAME</th>\n",
              "      <th>NAICS_CODE</th>\n",
              "      <th>TOTAL_WORKERS</th>\n",
              "      <th>FULL_TIME_POSITION</th>\n",
              "      <th>PREVAILING_WAGE</th>\n",
              "      <th>PW_UNIT_OF_PAY</th>\n",
              "      <th>PW_SOURCE</th>\n",
              "      <th>PW_SOURCE_YEAR</th>\n",
              "      <th>PW_SOURCE_OTHER</th>\n",
              "      <th>WAGE_RATE_OF_PAY_FROM</th>\n",
              "      <th>WAGE_RATE_OF_PAY_TO</th>\n",
              "      <th>WAGE_UNIT_OF_PAY</th>\n",
              "      <th>H-1B_DEPENDENT</th>\n",
              "      <th>WILLFUL_VIOLATOR</th>\n",
              "      <th>WORKSITE_STATE</th>\n",
              "      <th>WORKSITE_POSTAL_CODE</th>\n",
              "      <th>CASE_STATUS</th>\n",
              "    </tr>\n",
              "  </thead>\n",
              "  <tbody>\n",
              "    <tr>\n",
              "      <th>0</th>\n",
              "      <td>24</td>\n",
              "      <td>2</td>\n",
              "      <td>2016</td>\n",
              "      <td>1</td>\n",
              "      <td>10</td>\n",
              "      <td>2016</td>\n",
              "      <td>H1B</td>\n",
              "      <td>DISCOVER PRODUCTS INC</td>\n",
              "      <td>IL</td>\n",
              "      <td>UNITED STATES OF AMERICA</td>\n",
              "      <td>ANALYSTS</td>\n",
              "      <td>522210.0</td>\n",
              "      <td>1</td>\n",
              "      <td>1</td>\n",
              "      <td>59197.0</td>\n",
              "      <td>Year</td>\n",
              "      <td>OES</td>\n",
              "      <td>2015.0</td>\n",
              "      <td>OFLC ONLINE DATA CENTER</td>\n",
              "      <td>65811.0</td>\n",
              "      <td>67320.0</td>\n",
              "      <td>Year</td>\n",
              "      <td>0</td>\n",
              "      <td>0</td>\n",
              "      <td>IL</td>\n",
              "      <td>60015</td>\n",
              "      <td>CERTIFIEDWITHDRAWN</td>\n",
              "    </tr>\n",
              "    <tr>\n",
              "      <th>1</th>\n",
              "      <td>4</td>\n",
              "      <td>3</td>\n",
              "      <td>2016</td>\n",
              "      <td>1</td>\n",
              "      <td>10</td>\n",
              "      <td>2016</td>\n",
              "      <td>H1B</td>\n",
              "      <td>DFS SERVICES LLC</td>\n",
              "      <td>IL</td>\n",
              "      <td>UNITED STATES OF AMERICA</td>\n",
              "      <td>ANALYSTS</td>\n",
              "      <td>522210.0</td>\n",
              "      <td>1</td>\n",
              "      <td>1</td>\n",
              "      <td>49800.0</td>\n",
              "      <td>Year</td>\n",
              "      <td>Other</td>\n",
              "      <td>2015.0</td>\n",
              "      <td>WILLIS TOWERS WATSON SURVEY</td>\n",
              "      <td>53000.0</td>\n",
              "      <td>57200.0</td>\n",
              "      <td>Year</td>\n",
              "      <td>0</td>\n",
              "      <td>0</td>\n",
              "      <td>IL</td>\n",
              "      <td>60015</td>\n",
              "      <td>CERTIFIEDWITHDRAWN</td>\n",
              "    </tr>\n",
              "  </tbody>\n",
              "</table>\n",
              "</div>"
            ],
            "text/plain": [
              "   CASE_SUBMITTED_DAY  ...         CASE_STATUS\n",
              "0                  24  ...  CERTIFIEDWITHDRAWN\n",
              "1                   4  ...  CERTIFIEDWITHDRAWN\n",
              "\n",
              "[2 rows x 27 columns]"
            ]
          },
          "metadata": {
            "tags": []
          },
          "execution_count": 19
        }
      ]
    },
    {
      "cell_type": "code",
      "metadata": {
        "id": "y3rz9mq4rc5c",
        "colab": {
          "base_uri": "https://localhost:8080/"
        },
        "outputId": "e4031705-8852-46d1-f0ec-7df9a104f19f"
      },
      "source": [
        "h1bdf.CASE_STATUS.value_counts()"
      ],
      "execution_count": null,
      "outputs": [
        {
          "output_type": "execute_result",
          "data": {
            "text/plain": [
              "CERTIFIED             459833\n",
              "CERTIFIEDWITHDRAWN     35559\n",
              "WITHDRAWN              15685\n",
              "DENIED                  6188\n",
              "Name: CASE_STATUS, dtype: int64"
            ]
          },
          "metadata": {
            "tags": []
          },
          "execution_count": 20
        }
      ]
    },
    {
      "cell_type": "code",
      "metadata": {
        "colab": {
          "base_uri": "https://localhost:8080/",
          "height": 231
        },
        "id": "E-E7FscS0MNH",
        "outputId": "27801346-285b-4594-ac80-30ab7fc60c6f"
      },
      "source": [
        "print(\"certified instances : \",count_C)\n",
        "print(\"certified withdrawn instances : \",count_CW)\n",
        "print(\"withdrawn instances : \",count_W)\n",
        "print(\"denied instances : \",count_D)"
      ],
      "execution_count": null,
      "outputs": [
        {
          "output_type": "error",
          "ename": "NameError",
          "evalue": "ignored",
          "traceback": [
            "\u001b[0;31m---------------------------------------------------------------------------\u001b[0m",
            "\u001b[0;31mNameError\u001b[0m                                 Traceback (most recent call last)",
            "\u001b[0;32m<ipython-input-21-7de12719047e>\u001b[0m in \u001b[0;36m<module>\u001b[0;34m()\u001b[0m\n\u001b[0;32m----> 1\u001b[0;31m \u001b[0mprint\u001b[0m\u001b[0;34m(\u001b[0m\u001b[0;34m\"certified instances : \"\u001b[0m\u001b[0;34m,\u001b[0m\u001b[0mcount_C\u001b[0m\u001b[0;34m)\u001b[0m\u001b[0;34m\u001b[0m\u001b[0;34m\u001b[0m\u001b[0m\n\u001b[0m\u001b[1;32m      2\u001b[0m \u001b[0mprint\u001b[0m\u001b[0;34m(\u001b[0m\u001b[0;34m\"certified withdrawn instances : \"\u001b[0m\u001b[0;34m,\u001b[0m\u001b[0mcount_CW\u001b[0m\u001b[0;34m)\u001b[0m\u001b[0;34m\u001b[0m\u001b[0;34m\u001b[0m\u001b[0m\n\u001b[1;32m      3\u001b[0m \u001b[0mprint\u001b[0m\u001b[0;34m(\u001b[0m\u001b[0;34m\"withdrawn instances : \"\u001b[0m\u001b[0;34m,\u001b[0m\u001b[0mcount_W\u001b[0m\u001b[0;34m)\u001b[0m\u001b[0;34m\u001b[0m\u001b[0;34m\u001b[0m\u001b[0m\n\u001b[1;32m      4\u001b[0m \u001b[0mprint\u001b[0m\u001b[0;34m(\u001b[0m\u001b[0;34m\"denied instances : \"\u001b[0m\u001b[0;34m,\u001b[0m\u001b[0mcount_D\u001b[0m\u001b[0;34m)\u001b[0m\u001b[0;34m\u001b[0m\u001b[0;34m\u001b[0m\u001b[0m\n",
            "\u001b[0;31mNameError\u001b[0m: name 'count_C' is not defined"
          ]
        }
      ]
    },
    {
      "cell_type": "code",
      "metadata": {
        "id": "I5PgUIg_1NSH"
      },
      "source": [
        "h1bdf_C = h1bdf[h1bdf['CASE_STATUS'] == 'CERTIFIED']"
      ],
      "execution_count": null,
      "outputs": []
    },
    {
      "cell_type": "code",
      "metadata": {
        "colab": {
          "base_uri": "https://localhost:8080/"
        },
        "id": "Euipf7c8E9wI",
        "outputId": "6b2d6100-0d27-4a50-f493-4eaaab2328df"
      },
      "source": [
        "h1bdf_C.shape"
      ],
      "execution_count": null,
      "outputs": [
        {
          "output_type": "execute_result",
          "data": {
            "text/plain": [
              "(459833, 27)"
            ]
          },
          "metadata": {
            "tags": []
          },
          "execution_count": 23
        }
      ]
    },
    {
      "cell_type": "code",
      "metadata": {
        "colab": {
          "base_uri": "https://localhost:8080/"
        },
        "id": "k2tZMVUWFHwh",
        "outputId": "90f3f3fd-ce4d-434f-e6b0-20815d4638b5"
      },
      "source": [
        "from sklearn.utils import resample\n",
        "\n",
        "h1bdf_C_downsampled = resample(h1bdf_C,replace=False,n_samples=50000,random_state=123)                                   \n",
        "h1bdf_C_downsampled.shape"
      ],
      "execution_count": null,
      "outputs": [
        {
          "output_type": "execute_result",
          "data": {
            "text/plain": [
              "(50000, 27)"
            ]
          },
          "metadata": {
            "tags": []
          },
          "execution_count": 24
        }
      ]
    },
    {
      "cell_type": "code",
      "metadata": {
        "id": "isFIoZhWHa2r"
      },
      "source": [
        "h1bdf_NotCertified = h1bdf[h1bdf['CASE_STATUS'] != 'CERTIFIED']"
      ],
      "execution_count": null,
      "outputs": []
    },
    {
      "cell_type": "code",
      "metadata": {
        "colab": {
          "base_uri": "https://localhost:8080/"
        },
        "id": "NGWSxXSmJPnt",
        "outputId": "5259f83b-b5ca-46da-9d43-01d82766cbae"
      },
      "source": [
        "h1bdf_NotCertified.CASE_STATUS.value_counts()"
      ],
      "execution_count": null,
      "outputs": [
        {
          "output_type": "execute_result",
          "data": {
            "text/plain": [
              "CERTIFIEDWITHDRAWN    35559\n",
              "WITHDRAWN             15685\n",
              "DENIED                 6188\n",
              "Name: CASE_STATUS, dtype: int64"
            ]
          },
          "metadata": {
            "tags": []
          },
          "execution_count": 26
        }
      ]
    },
    {
      "cell_type": "code",
      "metadata": {
        "id": "AhENCtldJ_N6"
      },
      "source": [
        "h1bdf_sampled = pd.concat([h1bdf_NotCertified,h1bdf_C_downsampled],ignore_index=True)"
      ],
      "execution_count": null,
      "outputs": []
    },
    {
      "cell_type": "code",
      "metadata": {
        "colab": {
          "base_uri": "https://localhost:8080/"
        },
        "id": "K2Tg-Hs_LM74",
        "outputId": "32b5b3ac-f02d-4ab0-e7d8-99891c742707"
      },
      "source": [
        "h1bdf_sampled.CASE_STATUS.value_counts()"
      ],
      "execution_count": null,
      "outputs": [
        {
          "output_type": "execute_result",
          "data": {
            "text/plain": [
              "CERTIFIED             50000\n",
              "CERTIFIEDWITHDRAWN    35559\n",
              "WITHDRAWN             15685\n",
              "DENIED                 6188\n",
              "Name: CASE_STATUS, dtype: int64"
            ]
          },
          "metadata": {
            "tags": []
          },
          "execution_count": 28
        }
      ]
    },
    {
      "cell_type": "code",
      "metadata": {
        "id": "YdsWYajKXMLz"
      },
      "source": [
        "X= h1bdf_sampled.iloc[:,:-1].values\n",
        "y= h1bdf_sampled.iloc[:,-1].values"
      ],
      "execution_count": null,
      "outputs": []
    },
    {
      "cell_type": "code",
      "metadata": {
        "id": "N5rqLf5WYdU5",
        "colab": {
          "base_uri": "https://localhost:8080/"
        },
        "outputId": "2a094cbe-e3b1-4150-9ce9-85f15fcbd027"
      },
      "source": [
        "y"
      ],
      "execution_count": null,
      "outputs": [
        {
          "output_type": "execute_result",
          "data": {
            "text/plain": [
              "array(['CERTIFIEDWITHDRAWN', 'CERTIFIEDWITHDRAWN', 'CERTIFIEDWITHDRAWN',\n",
              "       ..., 'CERTIFIED', 'CERTIFIED', 'CERTIFIED'], dtype=object)"
            ]
          },
          "metadata": {
            "tags": []
          },
          "execution_count": 30
        }
      ]
    },
    {
      "cell_type": "code",
      "metadata": {
        "id": "0vhwGH6qYfzU",
        "colab": {
          "base_uri": "https://localhost:8080/"
        },
        "outputId": "ba533557-1ecd-4a23-b60e-b7b77dd572c6"
      },
      "source": [
        "y.shape"
      ],
      "execution_count": null,
      "outputs": [
        {
          "output_type": "execute_result",
          "data": {
            "text/plain": [
              "(107432,)"
            ]
          },
          "metadata": {
            "tags": []
          },
          "execution_count": 31
        }
      ]
    },
    {
      "cell_type": "code",
      "metadata": {
        "id": "_R80C5ReYg_G"
      },
      "source": [
        "from sklearn import preprocessing\n",
        "lab_encode = preprocessing.LabelEncoder()\n",
        "lab_encode.fit(y)\n",
        "list(lab_encode.classes_)\n",
        "y1 = lab_encode.transform(y)"
      ],
      "execution_count": null,
      "outputs": []
    },
    {
      "cell_type": "code",
      "metadata": {
        "id": "grnYQsXTYlKT",
        "colab": {
          "base_uri": "https://localhost:8080/"
        },
        "outputId": "def76201-ac29-4634-df2d-6aef50db8dab"
      },
      "source": [
        "y1"
      ],
      "execution_count": null,
      "outputs": [
        {
          "output_type": "execute_result",
          "data": {
            "text/plain": [
              "array([1, 1, 1, ..., 0, 0, 0])"
            ]
          },
          "metadata": {
            "tags": []
          },
          "execution_count": 33
        }
      ]
    },
    {
      "cell_type": "code",
      "metadata": {
        "id": "fac5tG8lYnH3",
        "colab": {
          "base_uri": "https://localhost:8080/"
        },
        "outputId": "1250ed3e-2d33-48a9-b9dc-347f1924d32d"
      },
      "source": [
        "y1.shape"
      ],
      "execution_count": null,
      "outputs": [
        {
          "output_type": "execute_result",
          "data": {
            "text/plain": [
              "(107432,)"
            ]
          },
          "metadata": {
            "tags": []
          },
          "execution_count": 34
        }
      ]
    },
    {
      "cell_type": "code",
      "metadata": {
        "id": "HYHNEElKzD2Y"
      },
      "source": [
        "#cdf_class_c = cdf[cdf.CASE_STATUS=='CERTIFIED']\n",
        "#cdf_class_d = cdf[cdf.CASE_STATUS=='DENIED']"
      ],
      "execution_count": null,
      "outputs": []
    },
    {
      "cell_type": "code",
      "metadata": {
        "id": "1uxsyr45r8tD"
      },
      "source": [
        "col_array = ['CASE_SUBMITTED_YEAR','EMPLOYER_NAME','EMPLOYER_STATE','SOC_NAME','FULL_TIME_POSITION','PREVAILING_WAGE','PW_SOURCE','WAGE_RATE_OF_PAY_FROM']"
      ],
      "execution_count": null,
      "outputs": []
    },
    {
      "cell_type": "code",
      "metadata": {
        "id": "HiWcJs_0YoLk"
      },
      "source": [
        "numerics = ['int16', 'int32', 'int64', 'float16', 'float32', 'float64']\n",
        "numh1bdf = h1bdf_sampled.select_dtypes(include=numerics)\n",
        "X_num = numh1bdf.to_numpy()"
      ],
      "execution_count": null,
      "outputs": []
    },
    {
      "cell_type": "code",
      "metadata": {
        "id": "K5qSYPNCZNf5",
        "colab": {
          "base_uri": "https://localhost:8080/"
        },
        "outputId": "d61e898b-4f79-406c-f268-0e3f16327247"
      },
      "source": [
        "X_num"
      ],
      "execution_count": null,
      "outputs": [
        {
          "output_type": "execute_result",
          "data": {
            "text/plain": [
              "array([[2.40000e+01, 2.00000e+00, 2.01600e+03, ..., 6.73200e+04,\n",
              "        0.00000e+00, 0.00000e+00],\n",
              "       [4.00000e+00, 3.00000e+00, 2.01600e+03, ..., 5.72000e+04,\n",
              "        0.00000e+00, 0.00000e+00],\n",
              "       [1.00000e+01, 3.00000e+00, 2.01600e+03, ..., 0.00000e+00,\n",
              "        1.00000e+00, 0.00000e+00],\n",
              "       ...,\n",
              "       [2.00000e+00, 2.00000e+00, 2.01700e+03, ..., 1.36652e+05,\n",
              "        0.00000e+00, 0.00000e+00],\n",
              "       [2.50000e+01, 4.00000e+00, 2.01700e+03, ..., 9.55000e+04,\n",
              "        1.00000e+00, 0.00000e+00],\n",
              "       [1.70000e+01, 1.00000e+00, 2.01700e+03, ..., 0.00000e+00,\n",
              "        0.00000e+00, 0.00000e+00]])"
            ]
          },
          "metadata": {
            "tags": []
          },
          "execution_count": 38
        }
      ]
    },
    {
      "cell_type": "code",
      "metadata": {
        "colab": {
          "base_uri": "https://localhost:8080/"
        },
        "id": "2dgIV8pTMLft",
        "outputId": "f088b415-d9e0-4325-c23a-59b528febd32"
      },
      "source": [
        "X_num.shape"
      ],
      "execution_count": null,
      "outputs": [
        {
          "output_type": "execute_result",
          "data": {
            "text/plain": [
              "(107432, 15)"
            ]
          },
          "metadata": {
            "tags": []
          },
          "execution_count": 39
        }
      ]
    },
    {
      "cell_type": "code",
      "metadata": {
        "id": "difd9ff8ZOZa",
        "colab": {
          "base_uri": "https://localhost:8080/",
          "height": 112
        },
        "outputId": "db3414c0-6f68-4cb8-ad72-04b2adf0c972"
      },
      "source": [
        "objh1bdf = h1bdf_sampled.select_dtypes(include=['object']).drop([\"WORKSITE_POSTAL_CODE\", \"EMPLOYER_NAME\", \"EMPLOYER_COUNTRY\", \"WAGE_UNIT_OF_PAY\", \"PW_UNIT_OF_PAY\",\"VISA_CLASS\"], axis=1)\n",
        "objh1bdf.head(2)"
      ],
      "execution_count": null,
      "outputs": [
        {
          "output_type": "execute_result",
          "data": {
            "text/html": [
              "<div>\n",
              "<style scoped>\n",
              "    .dataframe tbody tr th:only-of-type {\n",
              "        vertical-align: middle;\n",
              "    }\n",
              "\n",
              "    .dataframe tbody tr th {\n",
              "        vertical-align: top;\n",
              "    }\n",
              "\n",
              "    .dataframe thead th {\n",
              "        text-align: right;\n",
              "    }\n",
              "</style>\n",
              "<table border=\"1\" class=\"dataframe\">\n",
              "  <thead>\n",
              "    <tr style=\"text-align: right;\">\n",
              "      <th></th>\n",
              "      <th>EMPLOYER_STATE</th>\n",
              "      <th>SOC_NAME</th>\n",
              "      <th>PW_SOURCE</th>\n",
              "      <th>PW_SOURCE_OTHER</th>\n",
              "      <th>WORKSITE_STATE</th>\n",
              "      <th>CASE_STATUS</th>\n",
              "    </tr>\n",
              "  </thead>\n",
              "  <tbody>\n",
              "    <tr>\n",
              "      <th>0</th>\n",
              "      <td>IL</td>\n",
              "      <td>ANALYSTS</td>\n",
              "      <td>OES</td>\n",
              "      <td>OFLC ONLINE DATA CENTER</td>\n",
              "      <td>IL</td>\n",
              "      <td>CERTIFIEDWITHDRAWN</td>\n",
              "    </tr>\n",
              "    <tr>\n",
              "      <th>1</th>\n",
              "      <td>IL</td>\n",
              "      <td>ANALYSTS</td>\n",
              "      <td>Other</td>\n",
              "      <td>WILLIS TOWERS WATSON SURVEY</td>\n",
              "      <td>IL</td>\n",
              "      <td>CERTIFIEDWITHDRAWN</td>\n",
              "    </tr>\n",
              "  </tbody>\n",
              "</table>\n",
              "</div>"
            ],
            "text/plain": [
              "  EMPLOYER_STATE  SOC_NAME  ... WORKSITE_STATE         CASE_STATUS\n",
              "0             IL  ANALYSTS  ...             IL  CERTIFIEDWITHDRAWN\n",
              "1             IL  ANALYSTS  ...             IL  CERTIFIEDWITHDRAWN\n",
              "\n",
              "[2 rows x 6 columns]"
            ]
          },
          "metadata": {
            "tags": []
          },
          "execution_count": 40
        }
      ]
    },
    {
      "cell_type": "code",
      "metadata": {
        "id": "rUEe4g-RZiSC",
        "colab": {
          "base_uri": "https://localhost:8080/"
        },
        "outputId": "c4001c40-9b76-4903-97ec-1ab63d62f72e"
      },
      "source": [
        "from sklearn.preprocessing import OneHotEncoder\n",
        "enc = OneHotEncoder()\n",
        "X_cat = enc.fit_transform([[x,y,z,w,p] for x,y,z,w,p in zip(objh1bdf['EMPLOYER_STATE'], objh1bdf['SOC_NAME'], objh1bdf['PW_SOURCE'], objh1bdf['PW_SOURCE_OTHER'],objh1bdf['WORKSITE_STATE'])]).toarray()\n",
        "X_cat"
      ],
      "execution_count": null,
      "outputs": [
        {
          "output_type": "execute_result",
          "data": {
            "text/plain": [
              "array([[0., 0., 0., ..., 0., 0., 0.],\n",
              "       [0., 0., 0., ..., 0., 0., 0.],\n",
              "       [0., 0., 0., ..., 0., 0., 0.],\n",
              "       ...,\n",
              "       [0., 0., 0., ..., 0., 0., 0.],\n",
              "       [0., 0., 0., ..., 0., 0., 0.],\n",
              "       [0., 0., 0., ..., 0., 0., 0.]])"
            ]
          },
          "metadata": {
            "tags": []
          },
          "execution_count": 41
        }
      ]
    },
    {
      "cell_type": "code",
      "metadata": {
        "colab": {
          "base_uri": "https://localhost:8080/"
        },
        "id": "B7e2haUyMWv2",
        "outputId": "46ceee0e-cf8c-4c74-ee5f-4b556f5451d7"
      },
      "source": [
        "X_cat.shape"
      ],
      "execution_count": null,
      "outputs": [
        {
          "output_type": "execute_result",
          "data": {
            "text/plain": [
              "(107432, 340)"
            ]
          },
          "metadata": {
            "tags": []
          },
          "execution_count": 42
        }
      ]
    },
    {
      "cell_type": "code",
      "metadata": {
        "id": "hbXi7nm0ghsw",
        "colab": {
          "base_uri": "https://localhost:8080/"
        },
        "outputId": "57115787-86c6-485c-8958-80f2cb0ba6fa"
      },
      "source": [
        "X = np.hstack((X_num,X_cat))\n",
        "X"
      ],
      "execution_count": null,
      "outputs": [
        {
          "output_type": "execute_result",
          "data": {
            "text/plain": [
              "array([[2.400e+01, 2.000e+00, 2.016e+03, ..., 0.000e+00, 0.000e+00,\n",
              "        0.000e+00],\n",
              "       [4.000e+00, 3.000e+00, 2.016e+03, ..., 0.000e+00, 0.000e+00,\n",
              "        0.000e+00],\n",
              "       [1.000e+01, 3.000e+00, 2.016e+03, ..., 0.000e+00, 0.000e+00,\n",
              "        0.000e+00],\n",
              "       ...,\n",
              "       [2.000e+00, 2.000e+00, 2.017e+03, ..., 0.000e+00, 0.000e+00,\n",
              "        0.000e+00],\n",
              "       [2.500e+01, 4.000e+00, 2.017e+03, ..., 0.000e+00, 0.000e+00,\n",
              "        0.000e+00],\n",
              "       [1.700e+01, 1.000e+00, 2.017e+03, ..., 0.000e+00, 0.000e+00,\n",
              "        0.000e+00]])"
            ]
          },
          "metadata": {
            "tags": []
          },
          "execution_count": 43
        }
      ]
    },
    {
      "cell_type": "code",
      "metadata": {
        "id": "NxThQQr4gzLb",
        "colab": {
          "base_uri": "https://localhost:8080/"
        },
        "outputId": "2fcc0037-a90c-4a1c-b60f-5f1be6f927b5"
      },
      "source": [
        "X.shape"
      ],
      "execution_count": null,
      "outputs": [
        {
          "output_type": "execute_result",
          "data": {
            "text/plain": [
              "(107432, 355)"
            ]
          },
          "metadata": {
            "tags": []
          },
          "execution_count": 44
        }
      ]
    },
    {
      "cell_type": "code",
      "metadata": {
        "id": "3HmmBmWM1-eM"
      },
      "source": [
        "from sklearn.preprocessing import MinMaxScaler\n",
        "scaler = MinMaxScaler()\n",
        "X_scale = scaler.fit_transform(X)"
      ],
      "execution_count": null,
      "outputs": []
    },
    {
      "cell_type": "code",
      "metadata": {
        "id": "FbtlBzRHg0sN"
      },
      "source": [
        "from sklearn.model_selection import train_test_split\n",
        "X_train, X_test, y_train, y_test = train_test_split(X_scale,y1, test_size = 0.15, random_state = 101)"
      ],
      "execution_count": null,
      "outputs": []
    },
    {
      "cell_type": "code",
      "metadata": {
        "id": "6Tg9i4LeyQyE"
      },
      "source": [
        "from sklearn.model_selection import train_test_split\n",
        "X_train, X_val, y_train, y_val = train_test_split(X_train,y_train, test_size = 0.2, random_state = 101)"
      ],
      "execution_count": null,
      "outputs": []
    },
    {
      "cell_type": "code",
      "metadata": {
        "id": "zSOWq2C5hEE2",
        "colab": {
          "base_uri": "https://localhost:8080/"
        },
        "outputId": "072342df-3e4c-475c-9f5d-24d1c2cf0524"
      },
      "source": [
        "from sklearn.linear_model import LogisticRegression\n",
        "h1b_logreg = LogisticRegression(multi_class='ovr')\n",
        "h1b_logreg"
      ],
      "execution_count": null,
      "outputs": [
        {
          "output_type": "execute_result",
          "data": {
            "text/plain": [
              "LogisticRegression(C=1.0, class_weight=None, dual=False, fit_intercept=True,\n",
              "                   intercept_scaling=1, l1_ratio=None, max_iter=100,\n",
              "                   multi_class='ovr', n_jobs=None, penalty='l2',\n",
              "                   random_state=None, solver='lbfgs', tol=0.0001, verbose=0,\n",
              "                   warm_start=False)"
            ]
          },
          "metadata": {
            "tags": []
          },
          "execution_count": 48
        }
      ]
    },
    {
      "cell_type": "code",
      "metadata": {
        "id": "VFkeDdlpiLd5",
        "colab": {
          "base_uri": "https://localhost:8080/"
        },
        "outputId": "ce7e03f9-76d6-4533-caad-d4e3a9861c48"
      },
      "source": [
        "h1b_logreg.fit(X_train,y_train)"
      ],
      "execution_count": null,
      "outputs": [
        {
          "output_type": "stream",
          "text": [
            "/usr/local/lib/python3.6/dist-packages/sklearn/linear_model/_logistic.py:940: ConvergenceWarning: lbfgs failed to converge (status=1):\n",
            "STOP: TOTAL NO. of ITERATIONS REACHED LIMIT.\n",
            "\n",
            "Increase the number of iterations (max_iter) or scale the data as shown in:\n",
            "    https://scikit-learn.org/stable/modules/preprocessing.html\n",
            "Please also refer to the documentation for alternative solver options:\n",
            "    https://scikit-learn.org/stable/modules/linear_model.html#logistic-regression\n",
            "  extra_warning_msg=_LOGISTIC_SOLVER_CONVERGENCE_MSG)\n",
            "/usr/local/lib/python3.6/dist-packages/sklearn/linear_model/_logistic.py:940: ConvergenceWarning: lbfgs failed to converge (status=1):\n",
            "STOP: TOTAL NO. of ITERATIONS REACHED LIMIT.\n",
            "\n",
            "Increase the number of iterations (max_iter) or scale the data as shown in:\n",
            "    https://scikit-learn.org/stable/modules/preprocessing.html\n",
            "Please also refer to the documentation for alternative solver options:\n",
            "    https://scikit-learn.org/stable/modules/linear_model.html#logistic-regression\n",
            "  extra_warning_msg=_LOGISTIC_SOLVER_CONVERGENCE_MSG)\n",
            "/usr/local/lib/python3.6/dist-packages/sklearn/linear_model/_logistic.py:940: ConvergenceWarning: lbfgs failed to converge (status=1):\n",
            "STOP: TOTAL NO. of ITERATIONS REACHED LIMIT.\n",
            "\n",
            "Increase the number of iterations (max_iter) or scale the data as shown in:\n",
            "    https://scikit-learn.org/stable/modules/preprocessing.html\n",
            "Please also refer to the documentation for alternative solver options:\n",
            "    https://scikit-learn.org/stable/modules/linear_model.html#logistic-regression\n",
            "  extra_warning_msg=_LOGISTIC_SOLVER_CONVERGENCE_MSG)\n",
            "/usr/local/lib/python3.6/dist-packages/sklearn/linear_model/_logistic.py:940: ConvergenceWarning: lbfgs failed to converge (status=1):\n",
            "STOP: TOTAL NO. of ITERATIONS REACHED LIMIT.\n",
            "\n",
            "Increase the number of iterations (max_iter) or scale the data as shown in:\n",
            "    https://scikit-learn.org/stable/modules/preprocessing.html\n",
            "Please also refer to the documentation for alternative solver options:\n",
            "    https://scikit-learn.org/stable/modules/linear_model.html#logistic-regression\n",
            "  extra_warning_msg=_LOGISTIC_SOLVER_CONVERGENCE_MSG)\n"
          ],
          "name": "stderr"
        },
        {
          "output_type": "execute_result",
          "data": {
            "text/plain": [
              "LogisticRegression(C=1.0, class_weight=None, dual=False, fit_intercept=True,\n",
              "                   intercept_scaling=1, l1_ratio=None, max_iter=100,\n",
              "                   multi_class='ovr', n_jobs=None, penalty='l2',\n",
              "                   random_state=None, solver='lbfgs', tol=0.0001, verbose=0,\n",
              "                   warm_start=False)"
            ]
          },
          "metadata": {
            "tags": []
          },
          "execution_count": 49
        }
      ]
    },
    {
      "cell_type": "code",
      "metadata": {
        "id": "XS2Qprc7o63o",
        "colab": {
          "base_uri": "https://localhost:8080/"
        },
        "outputId": "01734103-70fe-49fa-fc7d-500372ef4dec"
      },
      "source": [
        "pred = h1b_logreg.predict(X_test)\n",
        "pred"
      ],
      "execution_count": null,
      "outputs": [
        {
          "output_type": "execute_result",
          "data": {
            "text/plain": [
              "array([0, 0, 2, ..., 0, 3, 0])"
            ]
          },
          "metadata": {
            "tags": []
          },
          "execution_count": 50
        }
      ]
    },
    {
      "cell_type": "code",
      "metadata": {
        "id": "TnkAXlHLEls_",
        "colab": {
          "base_uri": "https://localhost:8080/"
        },
        "outputId": "1896a8c7-6309-4b70-f7a2-180391b89b5b"
      },
      "source": [
        "pred_v = h1b_logreg.predict(X_val)\n",
        "pred_v"
      ],
      "execution_count": null,
      "outputs": [
        {
          "output_type": "execute_result",
          "data": {
            "text/plain": [
              "array([1, 0, 0, ..., 3, 0, 1])"
            ]
          },
          "metadata": {
            "tags": []
          },
          "execution_count": 51
        }
      ]
    },
    {
      "cell_type": "code",
      "metadata": {
        "id": "syAw82Aaoawl",
        "colab": {
          "base_uri": "https://localhost:8080/"
        },
        "outputId": "d96dfc94-325d-47a0-bc13-8329a166db90"
      },
      "source": [
        "from sklearn.metrics import classification_report\n",
        "print(classification_report(y_test,pred))"
      ],
      "execution_count": null,
      "outputs": [
        {
          "output_type": "stream",
          "text": [
            "              precision    recall  f1-score   support\n",
            "\n",
            "           0       0.83      0.90      0.86      7491\n",
            "           1       0.85      0.89      0.87      5287\n",
            "           2       0.62      0.21      0.31       956\n",
            "           3       0.69      0.64      0.67      2381\n",
            "\n",
            "    accuracy                           0.81     16115\n",
            "   macro avg       0.75      0.66      0.68     16115\n",
            "weighted avg       0.80      0.81      0.80     16115\n",
            "\n"
          ],
          "name": "stdout"
        }
      ]
    },
    {
      "cell_type": "code",
      "metadata": {
        "id": "2PdLBABrEwGa",
        "colab": {
          "base_uri": "https://localhost:8080/"
        },
        "outputId": "4393a850-4612-4fee-d92f-64d141460364"
      },
      "source": [
        "from sklearn.metrics import classification_report\n",
        "print(classification_report(y_val,pred_v))"
      ],
      "execution_count": null,
      "outputs": [
        {
          "output_type": "stream",
          "text": [
            "              precision    recall  f1-score   support\n",
            "\n",
            "           0       0.82      0.89      0.86      8441\n",
            "           1       0.85      0.89      0.87      6078\n",
            "           2       0.65      0.21      0.32      1070\n",
            "           3       0.71      0.63      0.67      2675\n",
            "\n",
            "    accuracy                           0.81     18264\n",
            "   macro avg       0.76      0.66      0.68     18264\n",
            "weighted avg       0.81      0.81      0.80     18264\n",
            "\n"
          ],
          "name": "stdout"
        }
      ]
    },
    {
      "cell_type": "code",
      "metadata": {
        "id": "Ii-iwh2PozPW",
        "colab": {
          "base_uri": "https://localhost:8080/"
        },
        "outputId": "9d7ac088-0a11-40a4-ec7c-e15529ecc4a3"
      },
      "source": [
        "from sklearn.metrics import confusion_matrix\n",
        "confusion_matrix(y_test,pred)"
      ],
      "execution_count": null,
      "outputs": [
        {
          "output_type": "execute_result",
          "data": {
            "text/plain": [
              "array([[6710,  493,   57,  231],\n",
              "       [ 486, 4696,    7,   98],\n",
              "       [ 387,   26,  197,  346],\n",
              "       [ 499,  301,   56, 1525]])"
            ]
          },
          "metadata": {
            "tags": []
          },
          "execution_count": 54
        }
      ]
    },
    {
      "cell_type": "code",
      "metadata": {
        "id": "XVvgcldVE7rj",
        "colab": {
          "base_uri": "https://localhost:8080/"
        },
        "outputId": "5c9251ff-b3c5-4bb3-f368-257e15993458"
      },
      "source": [
        "from sklearn.metrics import confusion_matrix\n",
        "confusion_matrix(y_val,pred_v)"
      ],
      "execution_count": null,
      "outputs": [
        {
          "output_type": "execute_result",
          "data": {
            "text/plain": [
              "array([[7549,  609,   47,  236],\n",
              "       [ 548, 5419,    7,  104],\n",
              "       [ 443,   52,  227,  348],\n",
              "       [ 611,  309,   67, 1688]])"
            ]
          },
          "metadata": {
            "tags": []
          },
          "execution_count": 55
        }
      ]
    },
    {
      "cell_type": "code",
      "metadata": {
        "id": "X_YHrrsiS2-H",
        "colab": {
          "base_uri": "https://localhost:8080/"
        },
        "outputId": "07c0db14-4415-4bc7-f3e8-a88db8cfa887"
      },
      "source": [
        "from sklearn.metrics import mean_squared_error\n",
        "mean_squared_error(y_test, pred)"
      ],
      "execution_count": null,
      "outputs": [
        {
          "output_type": "execute_result",
          "data": {
            "text/plain": [
              "0.7046850760161341"
            ]
          },
          "metadata": {
            "tags": []
          },
          "execution_count": 56
        }
      ]
    },
    {
      "cell_type": "code",
      "metadata": {
        "id": "eHfyoD-yFHeg",
        "colab": {
          "base_uri": "https://localhost:8080/"
        },
        "outputId": "879ed09c-1b83-482b-b2f4-f149dc7f40db"
      },
      "source": [
        "from sklearn.metrics import mean_squared_error\n",
        "mean_squared_error(y_val, pred_v)"
      ],
      "execution_count": null,
      "outputs": [
        {
          "output_type": "execute_result",
          "data": {
            "text/plain": [
              "0.7044459045116075"
            ]
          },
          "metadata": {
            "tags": []
          },
          "execution_count": 57
        }
      ]
    },
    {
      "cell_type": "code",
      "metadata": {
        "id": "vkEcY-CYUk_z",
        "colab": {
          "base_uri": "https://localhost:8080/"
        },
        "outputId": "80e5f7af-cb3a-45e0-f2ad-e910779ef585"
      },
      "source": [
        "from sklearn.metrics import f1_score\n",
        "f1_score(y_test, pred, average='macro')"
      ],
      "execution_count": null,
      "outputs": [
        {
          "output_type": "execute_result",
          "data": {
            "text/plain": [
              "0.6766086577115197"
            ]
          },
          "metadata": {
            "tags": []
          },
          "execution_count": 58
        }
      ]
    },
    {
      "cell_type": "code",
      "metadata": {
        "id": "7r64ff2OFPBU",
        "colab": {
          "base_uri": "https://localhost:8080/"
        },
        "outputId": "8191bd67-761d-417b-d2e4-024ac856a1c4"
      },
      "source": [
        "from sklearn.metrics import f1_score\n",
        "f1_score(y_val, pred_v, average='macro')"
      ],
      "execution_count": null,
      "outputs": [
        {
          "output_type": "execute_result",
          "data": {
            "text/plain": [
              "0.6790294523995635"
            ]
          },
          "metadata": {
            "tags": []
          },
          "execution_count": 59
        }
      ]
    },
    {
      "cell_type": "code",
      "metadata": {
        "id": "vSzmVakAVGSg",
        "colab": {
          "base_uri": "https://localhost:8080/"
        },
        "outputId": "d34dbc35-0b19-4301-e2d0-6e76e291fd0a"
      },
      "source": [
        "from sklearn import metrics\n",
        "fpr, tpr, thresholds = metrics.roc_curve(y_test, pred, pos_label=2)\n",
        "metrics.auc(fpr, tpr)"
      ],
      "execution_count": null,
      "outputs": [
        {
          "output_type": "execute_result",
          "data": {
            "text/plain": [
              "0.6413163769482813"
            ]
          },
          "metadata": {
            "tags": []
          },
          "execution_count": 60
        }
      ]
    },
    {
      "cell_type": "code",
      "metadata": {
        "id": "e0DQm1SpFZDw",
        "colab": {
          "base_uri": "https://localhost:8080/"
        },
        "outputId": "4f87b86d-f76c-41d2-f05c-c36a443b0625"
      },
      "source": [
        "from sklearn import metrics\n",
        "fpr_v, tpr_v, thresholds_v = metrics.roc_curve(y_val, pred_v, pos_label=2)\n",
        "metrics.auc(fpr_v, tpr_v)"
      ],
      "execution_count": null,
      "outputs": [
        {
          "output_type": "execute_result",
          "data": {
            "text/plain": [
              "0.6308432141618627"
            ]
          },
          "metadata": {
            "tags": []
          },
          "execution_count": 61
        }
      ]
    },
    {
      "cell_type": "code",
      "metadata": {
        "id": "4nAqTyMjWOZS",
        "colab": {
          "base_uri": "https://localhost:8080/"
        },
        "outputId": "0b757ac4-aad2-43c0-caea-3efe6b4db0e9"
      },
      "source": [
        "from sklearn.metrics import accuracy_score\n",
        "accuracy_score(y_test, pred)"
      ],
      "execution_count": null,
      "outputs": [
        {
          "output_type": "execute_result",
          "data": {
            "text/plain": [
              "0.8146447409246044"
            ]
          },
          "metadata": {
            "tags": []
          },
          "execution_count": 62
        }
      ]
    },
    {
      "cell_type": "code",
      "metadata": {
        "id": "NoO_MlUaFyZ0",
        "colab": {
          "base_uri": "https://localhost:8080/"
        },
        "outputId": "541d0e3d-a29b-409c-fd0c-2ff3b0e97164"
      },
      "source": [
        "from sklearn.metrics import accuracy_score\n",
        "accuracy_score(y_val, pred_v)"
      ],
      "execution_count": null,
      "outputs": [
        {
          "output_type": "execute_result",
          "data": {
            "text/plain": [
              "0.8148817345597897"
            ]
          },
          "metadata": {
            "tags": []
          },
          "execution_count": 63
        }
      ]
    },
    {
      "cell_type": "code",
      "metadata": {
        "id": "cfDoXWvElGw7",
        "colab": {
          "base_uri": "https://localhost:8080/"
        },
        "outputId": "fd518cda-052d-43d5-92e9-791eb9ae1c51"
      },
      "source": [
        "from sklearn.linear_model import LogisticRegression\n",
        "h1b_logreg1 = LogisticRegression(multi_class='multinomial')\n",
        "h1b_logreg1"
      ],
      "execution_count": null,
      "outputs": [
        {
          "output_type": "execute_result",
          "data": {
            "text/plain": [
              "LogisticRegression(C=1.0, class_weight=None, dual=False, fit_intercept=True,\n",
              "                   intercept_scaling=1, l1_ratio=None, max_iter=100,\n",
              "                   multi_class='multinomial', n_jobs=None, penalty='l2',\n",
              "                   random_state=None, solver='lbfgs', tol=0.0001, verbose=0,\n",
              "                   warm_start=False)"
            ]
          },
          "metadata": {
            "tags": []
          },
          "execution_count": 64
        }
      ]
    },
    {
      "cell_type": "code",
      "metadata": {
        "id": "IerivQ1blds4",
        "colab": {
          "base_uri": "https://localhost:8080/"
        },
        "outputId": "b2a63cbe-998d-4aba-e0e7-60c2ffde7a43"
      },
      "source": [
        "h1b_logreg1.fit(X_train,y_train)"
      ],
      "execution_count": null,
      "outputs": [
        {
          "output_type": "stream",
          "text": [
            "/usr/local/lib/python3.6/dist-packages/sklearn/linear_model/_logistic.py:940: ConvergenceWarning: lbfgs failed to converge (status=1):\n",
            "STOP: TOTAL NO. of ITERATIONS REACHED LIMIT.\n",
            "\n",
            "Increase the number of iterations (max_iter) or scale the data as shown in:\n",
            "    https://scikit-learn.org/stable/modules/preprocessing.html\n",
            "Please also refer to the documentation for alternative solver options:\n",
            "    https://scikit-learn.org/stable/modules/linear_model.html#logistic-regression\n",
            "  extra_warning_msg=_LOGISTIC_SOLVER_CONVERGENCE_MSG)\n"
          ],
          "name": "stderr"
        },
        {
          "output_type": "execute_result",
          "data": {
            "text/plain": [
              "LogisticRegression(C=1.0, class_weight=None, dual=False, fit_intercept=True,\n",
              "                   intercept_scaling=1, l1_ratio=None, max_iter=100,\n",
              "                   multi_class='multinomial', n_jobs=None, penalty='l2',\n",
              "                   random_state=None, solver='lbfgs', tol=0.0001, verbose=0,\n",
              "                   warm_start=False)"
            ]
          },
          "metadata": {
            "tags": []
          },
          "execution_count": 65
        }
      ]
    },
    {
      "cell_type": "code",
      "metadata": {
        "id": "ooP7mnvytlAc",
        "colab": {
          "base_uri": "https://localhost:8080/"
        },
        "outputId": "6c1ab765-674e-41f3-ed27-aa1c8b0d49fb"
      },
      "source": [
        "pred1 = h1b_logreg1.predict(X_test)\n",
        "pred1"
      ],
      "execution_count": null,
      "outputs": [
        {
          "output_type": "execute_result",
          "data": {
            "text/plain": [
              "array([0, 0, 2, ..., 0, 3, 0])"
            ]
          },
          "metadata": {
            "tags": []
          },
          "execution_count": 66
        }
      ]
    },
    {
      "cell_type": "code",
      "metadata": {
        "id": "2kQkcEahLtap",
        "colab": {
          "base_uri": "https://localhost:8080/"
        },
        "outputId": "afffa183-31eb-4bdb-b08b-3a39496f3eeb"
      },
      "source": [
        "pred1_v = h1b_logreg1.predict(X_val)\n",
        "pred1_v"
      ],
      "execution_count": null,
      "outputs": [
        {
          "output_type": "execute_result",
          "data": {
            "text/plain": [
              "array([1, 0, 0, ..., 3, 0, 1])"
            ]
          },
          "metadata": {
            "tags": []
          },
          "execution_count": 67
        }
      ]
    },
    {
      "cell_type": "code",
      "metadata": {
        "id": "dkyy20ATfcf4",
        "colab": {
          "base_uri": "https://localhost:8080/"
        },
        "outputId": "ad889f47-26c1-4bb6-a43e-204c8f90c9bc"
      },
      "source": [
        "pred1_v_log_prob = h1b_logreg1.predict_log_proba(X_val)\n",
        "pred1_v_log_prob.shape"
      ],
      "execution_count": null,
      "outputs": [
        {
          "output_type": "execute_result",
          "data": {
            "text/plain": [
              "(18264, 4)"
            ]
          },
          "metadata": {
            "tags": []
          },
          "execution_count": 68
        }
      ]
    },
    {
      "cell_type": "code",
      "metadata": {
        "id": "kUtN_gp9hJgM",
        "colab": {
          "base_uri": "https://localhost:8080/"
        },
        "outputId": "d70c412b-9528-4e3a-f1ff-d5c76df3187f"
      },
      "source": [
        "pred1_v_prob = h1b_logreg1.predict_proba(X_val)\n",
        "pred1_v_prob"
      ],
      "execution_count": null,
      "outputs": [
        {
          "output_type": "execute_result",
          "data": {
            "text/plain": [
              "array([[0.35572696, 0.6101332 , 0.00760042, 0.02653942],\n",
              "       [0.92436785, 0.02948889, 0.01403264, 0.03211063],\n",
              "       [0.9374729 , 0.02989042, 0.01028504, 0.02235163],\n",
              "       ...,\n",
              "       [0.07080814, 0.05304318, 0.10378142, 0.77236726],\n",
              "       [0.62676388, 0.03089122, 0.16840838, 0.17393652],\n",
              "       [0.13988089, 0.82489012, 0.00749099, 0.027738  ]])"
            ]
          },
          "metadata": {
            "tags": []
          },
          "execution_count": 69
        }
      ]
    },
    {
      "cell_type": "code",
      "metadata": {
        "id": "_fL2kMR5q3xr"
      },
      "source": [
        "maxarray_v = np.amax(pred1_v_prob,axis=1)"
      ],
      "execution_count": null,
      "outputs": []
    },
    {
      "cell_type": "code",
      "metadata": {
        "id": "FZ0FI45xhnfr"
      },
      "source": [
        "indexarray_v = np.argmax(pred1_v_prob,axis=1)"
      ],
      "execution_count": null,
      "outputs": []
    },
    {
      "cell_type": "code",
      "metadata": {
        "id": "48Eu2pARin4q",
        "colab": {
          "base_uri": "https://localhost:8080/"
        },
        "outputId": "f29dc30c-ba38-47eb-a588-5a6413669d06"
      },
      "source": [
        "np.unique(indexarray_v)"
      ],
      "execution_count": null,
      "outputs": [
        {
          "output_type": "execute_result",
          "data": {
            "text/plain": [
              "array([0, 1, 2, 3])"
            ]
          },
          "metadata": {
            "tags": []
          },
          "execution_count": 72
        }
      ]
    },
    {
      "cell_type": "code",
      "metadata": {
        "id": "0Hx5SrGHZ9mo"
      },
      "source": [
        ""
      ],
      "execution_count": null,
      "outputs": []
    },
    {
      "cell_type": "code",
      "metadata": {
        "id": "eK7D59Bopagb",
        "colab": {
          "base_uri": "https://localhost:8080/"
        },
        "outputId": "aa833a53-0a16-4e53-d82a-56b6178719a1"
      },
      "source": [
        "from sklearn.metrics import classification_report\n",
        "print(classification_report(y_test,pred1))"
      ],
      "execution_count": null,
      "outputs": [
        {
          "output_type": "stream",
          "text": [
            "              precision    recall  f1-score   support\n",
            "\n",
            "           0       0.83      0.91      0.87      7491\n",
            "           1       0.87      0.87      0.87      5287\n",
            "           2       0.57      0.24      0.34       956\n",
            "           3       0.69      0.64      0.66      2381\n",
            "\n",
            "    accuracy                           0.82     16115\n",
            "   macro avg       0.74      0.67      0.69     16115\n",
            "weighted avg       0.81      0.82      0.81     16115\n",
            "\n"
          ],
          "name": "stdout"
        }
      ]
    },
    {
      "cell_type": "code",
      "metadata": {
        "id": "D05OZXDbMQKh",
        "colab": {
          "base_uri": "https://localhost:8080/"
        },
        "outputId": "bebf0b90-10f0-4299-dbc3-bc84b2c63a8f"
      },
      "source": [
        "from sklearn.metrics import classification_report\n",
        "print(classification_report(y_val,pred1_v))"
      ],
      "execution_count": null,
      "outputs": [
        {
          "output_type": "stream",
          "text": [
            "              precision    recall  f1-score   support\n",
            "\n",
            "           0       0.83      0.91      0.87      8441\n",
            "           1       0.87      0.88      0.88      6078\n",
            "           2       0.62      0.25      0.36      1070\n",
            "           3       0.71      0.63      0.66      2675\n",
            "\n",
            "    accuracy                           0.82     18264\n",
            "   macro avg       0.76      0.67      0.69     18264\n",
            "weighted avg       0.81      0.82      0.81     18264\n",
            "\n"
          ],
          "name": "stdout"
        }
      ]
    },
    {
      "cell_type": "code",
      "metadata": {
        "id": "1iARVkjCuDDp",
        "colab": {
          "base_uri": "https://localhost:8080/"
        },
        "outputId": "8ce92e28-d34b-4e30-a1bd-196942b66962"
      },
      "source": [
        "from sklearn.metrics import confusion_matrix\n",
        "confusion_matrix(y_test,pred1)"
      ],
      "execution_count": null,
      "outputs": [
        {
          "output_type": "execute_result",
          "data": {
            "text/plain": [
              "array([[6806,  374,   84,  227],\n",
              "       [ 526, 4613,    7,  141],\n",
              "       [ 375,   17,  230,  334],\n",
              "       [ 482,  286,   84, 1529]])"
            ]
          },
          "metadata": {
            "tags": []
          },
          "execution_count": 75
        }
      ]
    },
    {
      "cell_type": "code",
      "metadata": {
        "id": "1sJ46w1jGbu8",
        "colab": {
          "base_uri": "https://localhost:8080/"
        },
        "outputId": "fc5cd94f-49c9-4726-be12-aabee2ca22e1"
      },
      "source": [
        "from sklearn.metrics import confusion_matrix\n",
        "confusion_matrix(y_val,pred1_v)"
      ],
      "execution_count": null,
      "outputs": [
        {
          "output_type": "execute_result",
          "data": {
            "text/plain": [
              "array([[7719,  438,   59,  225],\n",
              "       [ 588, 5345,    7,  138],\n",
              "       [ 436,   28,  266,  340],\n",
              "       [ 598,  300,   96, 1681]])"
            ]
          },
          "metadata": {
            "tags": []
          },
          "execution_count": 76
        }
      ]
    },
    {
      "cell_type": "code",
      "metadata": {
        "id": "fg1c1lV6tuFP",
        "colab": {
          "base_uri": "https://localhost:8080/"
        },
        "outputId": "61154132-e029-44c5-950a-3ff0df268653"
      },
      "source": [
        "from sklearn.metrics import mean_squared_error\n",
        "mean_squared_error(y_test, pred1)"
      ],
      "execution_count": null,
      "outputs": [
        {
          "output_type": "execute_result",
          "data": {
            "text/plain": [
              "0.699162271175923"
            ]
          },
          "metadata": {
            "tags": []
          },
          "execution_count": 77
        }
      ]
    },
    {
      "cell_type": "code",
      "metadata": {
        "id": "EVW-HXD0GfXC",
        "colab": {
          "base_uri": "https://localhost:8080/"
        },
        "outputId": "23b8bd36-03aa-45bf-9ff3-ad58f250004d"
      },
      "source": [
        "from sklearn.metrics import mean_squared_error\n",
        "mean_squared_error(y_val, pred1_v)"
      ],
      "execution_count": null,
      "outputs": [
        {
          "output_type": "execute_result",
          "data": {
            "text/plain": [
              "0.6918528252299606"
            ]
          },
          "metadata": {
            "tags": []
          },
          "execution_count": 78
        }
      ]
    },
    {
      "cell_type": "code",
      "metadata": {
        "id": "vDW3qys4Ughm",
        "colab": {
          "base_uri": "https://localhost:8080/"
        },
        "outputId": "75df99bf-0e2b-4031-a584-aca3e898d603"
      },
      "source": [
        "from sklearn.metrics import f1_score\n",
        "f1_score(y_test, pred1, average='macro')"
      ],
      "execution_count": null,
      "outputs": [
        {
          "output_type": "execute_result",
          "data": {
            "text/plain": [
              "0.6853554861617333"
            ]
          },
          "metadata": {
            "tags": []
          },
          "execution_count": 79
        }
      ]
    },
    {
      "cell_type": "code",
      "metadata": {
        "id": "-34vIKNLGjQ-",
        "colab": {
          "base_uri": "https://localhost:8080/"
        },
        "outputId": "c53b74b2-21a0-46a0-fde7-2588e00fbce3"
      },
      "source": [
        "from sklearn.metrics import f1_score\n",
        "f1_score(y_val, pred1_v, average='macro')"
      ],
      "execution_count": null,
      "outputs": [
        {
          "output_type": "execute_result",
          "data": {
            "text/plain": [
              "0.6912249927784235"
            ]
          },
          "metadata": {
            "tags": []
          },
          "execution_count": 80
        }
      ]
    },
    {
      "cell_type": "code",
      "metadata": {
        "id": "doGsoVx8VaNb",
        "colab": {
          "base_uri": "https://localhost:8080/"
        },
        "outputId": "72c90b60-26b5-41c6-d0ee-d4c4fb41fa2e"
      },
      "source": [
        "from sklearn import metrics\n",
        "fpr1, tpr1, thresholds1 = metrics.roc_curve(y_test, pred1, pos_label=2)\n",
        "metrics.auc(fpr1, tpr1)"
      ],
      "execution_count": null,
      "outputs": [
        {
          "output_type": "execute_result",
          "data": {
            "text/plain": [
              "0.649960178040249"
            ]
          },
          "metadata": {
            "tags": []
          },
          "execution_count": 81
        }
      ]
    },
    {
      "cell_type": "code",
      "metadata": {
        "id": "3kaXlTCcGohs",
        "colab": {
          "base_uri": "https://localhost:8080/"
        },
        "outputId": "09a77e82-4930-41f3-fba3-b29474f18e30"
      },
      "source": [
        "from sklearn import metrics\n",
        "fpr1_v, tpr1_v, thresholds1_v = metrics.roc_curve(y_val, pred1_v, pos_label=2)\n",
        "metrics.auc(fpr1_v, tpr1_v)"
      ],
      "execution_count": null,
      "outputs": [
        {
          "output_type": "execute_result",
          "data": {
            "text/plain": [
              "0.6404443410492032"
            ]
          },
          "metadata": {
            "tags": []
          },
          "execution_count": 82
        }
      ]
    },
    {
      "cell_type": "code",
      "metadata": {
        "id": "HvJbnN6RWIrD",
        "colab": {
          "base_uri": "https://localhost:8080/"
        },
        "outputId": "8b8981b2-417f-428d-b4b3-4fedfadf276b"
      },
      "source": [
        "from sklearn.metrics import accuracy_score\n",
        "accuracy_score(y_test, pred1)"
      ],
      "execution_count": null,
      "outputs": [
        {
          "output_type": "execute_result",
          "data": {
            "text/plain": [
              "0.8177474402730376"
            ]
          },
          "metadata": {
            "tags": []
          },
          "execution_count": 83
        }
      ]
    },
    {
      "cell_type": "code",
      "metadata": {
        "id": "mL30bm2RGx1M",
        "colab": {
          "base_uri": "https://localhost:8080/"
        },
        "outputId": "ae7a79b1-c994-4a63-8fcb-1841a18be5be"
      },
      "source": [
        "from sklearn.metrics import accuracy_score\n",
        "accuracy_score(y_val, pred1_v)"
      ],
      "execution_count": null,
      "outputs": [
        {
          "output_type": "execute_result",
          "data": {
            "text/plain": [
              "0.8218900569426194"
            ]
          },
          "metadata": {
            "tags": []
          },
          "execution_count": 84
        }
      ]
    },
    {
      "cell_type": "code",
      "metadata": {
        "colab": {
          "base_uri": "https://localhost:8080/"
        },
        "id": "sP5yVaOnptZX",
        "outputId": "e6db042e-1f14-4bb3-8b84-c3371d24bb46"
      },
      "source": [
        "from sklearn.metrics import precision_score\n",
        "precision_score(y_test, pred1, average='macro')"
      ],
      "execution_count": null,
      "outputs": [
        {
          "output_type": "execute_result",
          "data": {
            "text/plain": [
              "0.7390954311714748"
            ]
          },
          "metadata": {
            "tags": []
          },
          "execution_count": 85
        }
      ]
    },
    {
      "cell_type": "code",
      "metadata": {
        "colab": {
          "base_uri": "https://localhost:8080/"
        },
        "id": "8UGX3cIkqH4F",
        "outputId": "5bdede3c-fa3c-4921-b7e9-c62e687e8a04"
      },
      "source": [
        "from sklearn.metrics import precision_score\n",
        "precision_score(y_val, pred1_v, average='macro')"
      ],
      "execution_count": null,
      "outputs": [
        {
          "output_type": "execute_result",
          "data": {
            "text/plain": [
              "0.7569054910681504"
            ]
          },
          "metadata": {
            "tags": []
          },
          "execution_count": 86
        }
      ]
    },
    {
      "cell_type": "code",
      "metadata": {
        "colab": {
          "base_uri": "https://localhost:8080/"
        },
        "id": "_ZAtGBTZqusv",
        "outputId": "3927b116-2927-4854-fa68-8123bc0e67d4"
      },
      "source": [
        "from sklearn.metrics import recall_score\n",
        "recall_score(y_test, pred1, average='macro')"
      ],
      "execution_count": null,
      "outputs": [
        {
          "output_type": "execute_result",
          "data": {
            "text/plain": [
              "0.6659568403620939"
            ]
          },
          "metadata": {
            "tags": []
          },
          "execution_count": 87
        }
      ]
    },
    {
      "cell_type": "code",
      "metadata": {
        "colab": {
          "base_uri": "https://localhost:8080/"
        },
        "id": "svG3IRHwq3v0",
        "outputId": "57e6ec57-6479-460f-cf3c-44b3483456d5"
      },
      "source": [
        "from sklearn.metrics import recall_score\n",
        "recall_score(y_val, pred1_v, average='macro')"
      ],
      "execution_count": null,
      "outputs": [
        {
          "output_type": "execute_result",
          "data": {
            "text/plain": [
              "0.6677188938380835"
            ]
          },
          "metadata": {
            "tags": []
          },
          "execution_count": 88
        }
      ]
    },
    {
      "cell_type": "code",
      "metadata": {
        "id": "BwKOWmDrliRW",
        "colab": {
          "base_uri": "https://localhost:8080/"
        },
        "outputId": "513f29e4-e49b-4c17-8dd7-19315fe8999b"
      },
      "source": [
        "from sklearn.linear_model import SGDClassifier\n",
        "h1b_SGD = SGDClassifier()\n",
        "h1b_SGD"
      ],
      "execution_count": null,
      "outputs": [
        {
          "output_type": "execute_result",
          "data": {
            "text/plain": [
              "SGDClassifier(alpha=0.0001, average=False, class_weight=None,\n",
              "              early_stopping=False, epsilon=0.1, eta0=0.0, fit_intercept=True,\n",
              "              l1_ratio=0.15, learning_rate='optimal', loss='hinge',\n",
              "              max_iter=1000, n_iter_no_change=5, n_jobs=None, penalty='l2',\n",
              "              power_t=0.5, random_state=None, shuffle=True, tol=0.001,\n",
              "              validation_fraction=0.1, verbose=0, warm_start=False)"
            ]
          },
          "metadata": {
            "tags": []
          },
          "execution_count": 89
        }
      ]
    },
    {
      "cell_type": "code",
      "metadata": {
        "id": "4oKpszQeJbKH",
        "colab": {
          "base_uri": "https://localhost:8080/"
        },
        "outputId": "3796574a-eb70-4b2c-f2a6-5fa4f3cdbf5f"
      },
      "source": [
        "h1b_SGD.fit(X_train,y_train)"
      ],
      "execution_count": null,
      "outputs": [
        {
          "output_type": "execute_result",
          "data": {
            "text/plain": [
              "SGDClassifier(alpha=0.0001, average=False, class_weight=None,\n",
              "              early_stopping=False, epsilon=0.1, eta0=0.0, fit_intercept=True,\n",
              "              l1_ratio=0.15, learning_rate='optimal', loss='hinge',\n",
              "              max_iter=1000, n_iter_no_change=5, n_jobs=None, penalty='l2',\n",
              "              power_t=0.5, random_state=None, shuffle=True, tol=0.001,\n",
              "              validation_fraction=0.1, verbose=0, warm_start=False)"
            ]
          },
          "metadata": {
            "tags": []
          },
          "execution_count": 90
        }
      ]
    },
    {
      "cell_type": "code",
      "metadata": {
        "id": "h8RXpqj4NxOK",
        "colab": {
          "base_uri": "https://localhost:8080/"
        },
        "outputId": "c866a82c-ddbc-4d4f-d6c8-9cb5ca0d1d14"
      },
      "source": [
        "pred2 = h1b_SGD.predict(X_test)\n",
        "pred2"
      ],
      "execution_count": null,
      "outputs": [
        {
          "output_type": "execute_result",
          "data": {
            "text/plain": [
              "array([0, 0, 2, ..., 0, 3, 0])"
            ]
          },
          "metadata": {
            "tags": []
          },
          "execution_count": 91
        }
      ]
    },
    {
      "cell_type": "code",
      "metadata": {
        "id": "Eir4ymAhLr9R",
        "colab": {
          "base_uri": "https://localhost:8080/"
        },
        "outputId": "7d19b6a5-0658-4c13-829a-29ca7aaf6c62"
      },
      "source": [
        "pred2_v = h1b_SGD.predict(X_val)\n",
        "pred2_v"
      ],
      "execution_count": null,
      "outputs": [
        {
          "output_type": "execute_result",
          "data": {
            "text/plain": [
              "array([1, 0, 0, ..., 3, 0, 1])"
            ]
          },
          "metadata": {
            "tags": []
          },
          "execution_count": 92
        }
      ]
    },
    {
      "cell_type": "code",
      "metadata": {
        "id": "LnbEdJEZN_In",
        "colab": {
          "base_uri": "https://localhost:8080/"
        },
        "outputId": "29e6bbe7-f03c-4d85-8df5-cad523e7ae89"
      },
      "source": [
        "from sklearn.metrics import classification_report\n",
        "print(classification_report(y_test,pred2))"
      ],
      "execution_count": null,
      "outputs": [
        {
          "output_type": "stream",
          "text": [
            "              precision    recall  f1-score   support\n",
            "\n",
            "           0       0.83      0.85      0.84      7491\n",
            "           1       0.79      0.92      0.85      5287\n",
            "           2       0.56      0.19      0.28       956\n",
            "           3       0.72      0.62      0.67      2381\n",
            "\n",
            "    accuracy                           0.80     16115\n",
            "   macro avg       0.73      0.64      0.66     16115\n",
            "weighted avg       0.79      0.80      0.78     16115\n",
            "\n"
          ],
          "name": "stdout"
        }
      ]
    },
    {
      "cell_type": "code",
      "metadata": {
        "id": "TlHTEYDmLv6Y",
        "colab": {
          "base_uri": "https://localhost:8080/"
        },
        "outputId": "2c436ab0-000e-42d0-9107-165e762af7d8"
      },
      "source": [
        "from sklearn.metrics import classification_report\n",
        "print(classification_report(y_val,pred2_v))"
      ],
      "execution_count": null,
      "outputs": [
        {
          "output_type": "stream",
          "text": [
            "              precision    recall  f1-score   support\n",
            "\n",
            "           0       0.83      0.85      0.84      8441\n",
            "           1       0.79      0.92      0.85      6078\n",
            "           2       0.58      0.20      0.29      1070\n",
            "           3       0.73      0.60      0.66      2675\n",
            "\n",
            "    accuracy                           0.80     18264\n",
            "   macro avg       0.73      0.64      0.66     18264\n",
            "weighted avg       0.79      0.80      0.78     18264\n",
            "\n"
          ],
          "name": "stdout"
        }
      ]
    },
    {
      "cell_type": "code",
      "metadata": {
        "id": "Tf1QazeWOd_i",
        "colab": {
          "base_uri": "https://localhost:8080/"
        },
        "outputId": "bbe17765-c84d-46cf-981a-c61dbb4151e2"
      },
      "source": [
        "from sklearn.metrics import confusion_matrix\n",
        "confusion_matrix(y_test,pred2)"
      ],
      "execution_count": null,
      "outputs": [
        {
          "output_type": "execute_result",
          "data": {
            "text/plain": [
              "array([[6335,  904,   84,  168],\n",
              "       [ 370, 4848,   12,   57],\n",
              "       [ 357,   65,  183,  351],\n",
              "       [ 538,  309,   50, 1484]])"
            ]
          },
          "metadata": {
            "tags": []
          },
          "execution_count": 95
        }
      ]
    },
    {
      "cell_type": "code",
      "metadata": {
        "id": "wzOVsu5sLzwb",
        "colab": {
          "base_uri": "https://localhost:8080/"
        },
        "outputId": "3c7698f4-33f7-4a4f-cd09-b44de6375f99"
      },
      "source": [
        "from sklearn.metrics import confusion_matrix\n",
        "confusion_matrix(y_val,pred2_v)"
      ],
      "execution_count": null,
      "outputs": [
        {
          "output_type": "execute_result",
          "data": {
            "text/plain": [
              "array([[7149, 1048,   71,  173],\n",
              "       [ 401, 5604,   10,   63],\n",
              "       [ 406,   99,  209,  356],\n",
              "       [ 669,  330,   69, 1607]])"
            ]
          },
          "metadata": {
            "tags": []
          },
          "execution_count": 96
        }
      ]
    },
    {
      "cell_type": "code",
      "metadata": {
        "id": "FzxQ34k1Tfim",
        "colab": {
          "base_uri": "https://localhost:8080/"
        },
        "outputId": "33c6a553-84fe-4664-ea6e-55d758f7f790"
      },
      "source": [
        "from sklearn.metrics import mean_squared_error\n",
        "mean_squared_error(y_test, pred2)"
      ],
      "execution_count": null,
      "outputs": [
        {
          "output_type": "execute_result",
          "data": {
            "text/plain": [
              "0.7033198883028234"
            ]
          },
          "metadata": {
            "tags": []
          },
          "execution_count": 97
        }
      ]
    },
    {
      "cell_type": "code",
      "metadata": {
        "id": "mDeHxGkqL4GM",
        "colab": {
          "base_uri": "https://localhost:8080/"
        },
        "outputId": "117f8d77-9d89-4235-ff2b-f0316309be4f"
      },
      "source": [
        "from sklearn.metrics import mean_squared_error\n",
        "mean_squared_error(y_val, pred2_v)"
      ],
      "execution_count": null,
      "outputs": [
        {
          "output_type": "execute_result",
          "data": {
            "text/plain": [
              "0.7140275952693824"
            ]
          },
          "metadata": {
            "tags": []
          },
          "execution_count": 98
        }
      ]
    },
    {
      "cell_type": "code",
      "metadata": {
        "id": "LDWgMK7nUbra",
        "colab": {
          "base_uri": "https://localhost:8080/"
        },
        "outputId": "db24c027-8d18-4822-d557-50348d65280e"
      },
      "source": [
        "from sklearn.metrics import f1_score\n",
        "f1_score(y_test, pred2, average='macro')"
      ],
      "execution_count": null,
      "outputs": [
        {
          "output_type": "execute_result",
          "data": {
            "text/plain": [
              "0.6605684067097233"
            ]
          },
          "metadata": {
            "tags": []
          },
          "execution_count": 99
        }
      ]
    },
    {
      "cell_type": "code",
      "metadata": {
        "id": "T-l8y5gmL7ij",
        "colab": {
          "base_uri": "https://localhost:8080/"
        },
        "outputId": "2d5b179a-006e-4128-b8a2-6e41fc647f8f"
      },
      "source": [
        "from sklearn.metrics import f1_score\n",
        "f1_score(y_val, pred2_v, average='macro')"
      ],
      "execution_count": null,
      "outputs": [
        {
          "output_type": "execute_result",
          "data": {
            "text/plain": [
              "0.6603680452849593"
            ]
          },
          "metadata": {
            "tags": []
          },
          "execution_count": 100
        }
      ]
    },
    {
      "cell_type": "code",
      "metadata": {
        "id": "82pyVdJmVhCk",
        "colab": {
          "base_uri": "https://localhost:8080/"
        },
        "outputId": "58a2c0a0-d6c4-448f-e1c8-2a036165abe2"
      },
      "source": [
        "from sklearn import metrics\n",
        "fpr2, tpr2, thresholds2 = metrics.roc_curve(y_test, pred2, pos_label=2)\n",
        "metrics.auc(fpr2, tpr2)"
      ],
      "execution_count": null,
      "outputs": [
        {
          "output_type": "execute_result",
          "data": {
            "text/plain": [
              "0.650670776795259"
            ]
          },
          "metadata": {
            "tags": []
          },
          "execution_count": 101
        }
      ]
    },
    {
      "cell_type": "code",
      "metadata": {
        "id": "gTBBBwxbL_l3",
        "colab": {
          "base_uri": "https://localhost:8080/"
        },
        "outputId": "10d350f3-27a8-4f6b-d927-a9b076ae828a"
      },
      "source": [
        "from sklearn import metrics\n",
        "fpr2_v, tpr2_v, thresholds2_v = metrics.roc_curve(y_val, pred2_v, pos_label=2)\n",
        "metrics.auc(fpr2_v, tpr2_v)"
      ],
      "execution_count": null,
      "outputs": [
        {
          "output_type": "execute_result",
          "data": {
            "text/plain": [
              "0.6421192896022194"
            ]
          },
          "metadata": {
            "tags": []
          },
          "execution_count": 102
        }
      ]
    },
    {
      "cell_type": "code",
      "metadata": {
        "id": "t0KWtPdrWEcj",
        "colab": {
          "base_uri": "https://localhost:8080/"
        },
        "outputId": "a3ec8f75-b35d-4f30-fd04-e9825f823613"
      },
      "source": [
        "from sklearn.metrics import accuracy_score\n",
        "accuracy_score(y_test, pred2)"
      ],
      "execution_count": null,
      "outputs": [
        {
          "output_type": "execute_result",
          "data": {
            "text/plain": [
              "0.7973937325473162"
            ]
          },
          "metadata": {
            "tags": []
          },
          "execution_count": 103
        }
      ]
    },
    {
      "cell_type": "code",
      "metadata": {
        "id": "cOKRTpxGMGuF",
        "colab": {
          "base_uri": "https://localhost:8080/"
        },
        "outputId": "e7d219a6-25ed-4914-8795-b58dd0c0b0c2"
      },
      "source": [
        "from sklearn.metrics import accuracy_score\n",
        "accuracy_score(y_val, pred2_v)"
      ],
      "execution_count": null,
      "outputs": [
        {
          "output_type": "execute_result",
          "data": {
            "text/plain": [
              "0.7976894437144109"
            ]
          },
          "metadata": {
            "tags": []
          },
          "execution_count": 104
        }
      ]
    },
    {
      "cell_type": "code",
      "metadata": {
        "colab": {
          "base_uri": "https://localhost:8080/"
        },
        "id": "8byxb1DVri6U",
        "outputId": "e661e3ae-1a3b-40aa-812c-0c6528879dcc"
      },
      "source": [
        "from sklearn.metrics import precision_score\n",
        "precision_score(y_test, pred2, average='macro')"
      ],
      "execution_count": null,
      "outputs": [
        {
          "output_type": "execute_result",
          "data": {
            "text/plain": [
              "0.725388245788398"
            ]
          },
          "metadata": {
            "tags": []
          },
          "execution_count": 105
        }
      ]
    },
    {
      "cell_type": "code",
      "metadata": {
        "colab": {
          "base_uri": "https://localhost:8080/"
        },
        "id": "2iq4-V01rn9o",
        "outputId": "b9d888d3-df67-4505-9827-a593295f635c"
      },
      "source": [
        "from sklearn.metrics import precision_score\n",
        "precision_score(y_val, pred2_v, average='macro')"
      ],
      "execution_count": null,
      "outputs": [
        {
          "output_type": "execute_result",
          "data": {
            "text/plain": [
              "0.7333106576362797"
            ]
          },
          "metadata": {
            "tags": []
          },
          "execution_count": 106
        }
      ]
    },
    {
      "cell_type": "code",
      "metadata": {
        "colab": {
          "base_uri": "https://localhost:8080/"
        },
        "id": "shHYYjO9r99P",
        "outputId": "394e6cfd-42b3-45f7-f6b9-3811e9b77d6a"
      },
      "source": [
        "from sklearn.metrics import recall_score\n",
        "recall_score(y_test, pred2, average='macro')"
      ],
      "execution_count": null,
      "outputs": [
        {
          "output_type": "execute_result",
          "data": {
            "text/plain": [
              "0.6443344391525255"
            ]
          },
          "metadata": {
            "tags": []
          },
          "execution_count": 107
        }
      ]
    },
    {
      "cell_type": "code",
      "metadata": {
        "id": "_xA-vYp5sLlx",
        "colab": {
          "base_uri": "https://localhost:8080/"
        },
        "outputId": "a430929a-fc01-49e2-eced-06ad15b19ed5"
      },
      "source": [
        "from sklearn.metrics import recall_score\n",
        "recall_score(y_val, pred2_v, average='macro')"
      ],
      "execution_count": null,
      "outputs": [
        {
          "output_type": "execute_result",
          "data": {
            "text/plain": [
              "0.6412565383324502"
            ]
          },
          "metadata": {
            "tags": []
          },
          "execution_count": 108
        }
      ]
    },
    {
      "cell_type": "code",
      "metadata": {
        "id": "jdaA3YPAmtMI",
        "colab": {
          "base_uri": "https://localhost:8080/"
        },
        "outputId": "bad8a851-5396-40d0-b607-a28b97e57ce9"
      },
      "source": [
        "from sklearn.linear_model import SGDClassifier\n",
        "h1b_SGD1 = SGDClassifier(loss='log')\n",
        "h1b_SGD1"
      ],
      "execution_count": null,
      "outputs": [
        {
          "output_type": "execute_result",
          "data": {
            "text/plain": [
              "SGDClassifier(alpha=0.0001, average=False, class_weight=None,\n",
              "              early_stopping=False, epsilon=0.1, eta0=0.0, fit_intercept=True,\n",
              "              l1_ratio=0.15, learning_rate='optimal', loss='log', max_iter=1000,\n",
              "              n_iter_no_change=5, n_jobs=None, penalty='l2', power_t=0.5,\n",
              "              random_state=None, shuffle=True, tol=0.001,\n",
              "              validation_fraction=0.1, verbose=0, warm_start=False)"
            ]
          },
          "metadata": {
            "tags": []
          },
          "execution_count": 109
        }
      ]
    },
    {
      "cell_type": "code",
      "metadata": {
        "id": "7BYRmHtemy0x",
        "colab": {
          "base_uri": "https://localhost:8080/"
        },
        "outputId": "f231a61d-07b2-4f83-8596-73a7bb3af6dc"
      },
      "source": [
        "h1b_SGD1.fit(X_train,y_train)"
      ],
      "execution_count": null,
      "outputs": [
        {
          "output_type": "execute_result",
          "data": {
            "text/plain": [
              "SGDClassifier(alpha=0.0001, average=False, class_weight=None,\n",
              "              early_stopping=False, epsilon=0.1, eta0=0.0, fit_intercept=True,\n",
              "              l1_ratio=0.15, learning_rate='optimal', loss='log', max_iter=1000,\n",
              "              n_iter_no_change=5, n_jobs=None, penalty='l2', power_t=0.5,\n",
              "              random_state=None, shuffle=True, tol=0.001,\n",
              "              validation_fraction=0.1, verbose=0, warm_start=False)"
            ]
          },
          "metadata": {
            "tags": []
          },
          "execution_count": 110
        }
      ]
    },
    {
      "cell_type": "code",
      "metadata": {
        "id": "58qb513WOtT9",
        "colab": {
          "base_uri": "https://localhost:8080/"
        },
        "outputId": "9958f59a-683a-42a9-f4c2-9f8c527f5996"
      },
      "source": [
        "pred3 = h1b_SGD1.predict(X_val)\n",
        "pred3"
      ],
      "execution_count": null,
      "outputs": [
        {
          "output_type": "execute_result",
          "data": {
            "text/plain": [
              "array([1, 0, 0, ..., 3, 0, 1])"
            ]
          },
          "metadata": {
            "tags": []
          },
          "execution_count": 111
        }
      ]
    },
    {
      "cell_type": "code",
      "metadata": {
        "id": "bzJCRUb8FYS-",
        "colab": {
          "base_uri": "https://localhost:8080/"
        },
        "outputId": "0e4625cf-979c-4759-c672-9ffac28b7d4c"
      },
      "source": [
        "pred3_prob = h1b_SGD1.predict_proba(X_test)\n",
        "pred3_prob"
      ],
      "execution_count": null,
      "outputs": [
        {
          "output_type": "execute_result",
          "data": {
            "text/plain": [
              "array([[0.92384671, 0.03513522, 0.0094548 , 0.03156328],\n",
              "       [0.90299196, 0.00605776, 0.03863768, 0.05231259],\n",
              "       [0.06753101, 0.51693072, 0.39977378, 0.01576449],\n",
              "       ...,\n",
              "       [0.75163485, 0.02272104, 0.20856496, 0.01707915],\n",
              "       [0.0644937 , 0.06401092, 0.05364422, 0.81785116],\n",
              "       [0.45935556, 0.00240154, 0.20216048, 0.33608242]])"
            ]
          },
          "metadata": {
            "tags": []
          },
          "execution_count": 112
        }
      ]
    },
    {
      "cell_type": "code",
      "metadata": {
        "id": "bXoOjJ1OFkrT"
      },
      "source": [
        "#indexarray = np.argmax(pred1_prob,axis=1)"
      ],
      "execution_count": null,
      "outputs": []
    },
    {
      "cell_type": "code",
      "metadata": {
        "id": "EVlkueOSFr4z"
      },
      "source": [
        "#np.unique(indexarray)"
      ],
      "execution_count": null,
      "outputs": []
    },
    {
      "cell_type": "code",
      "metadata": {
        "id": "UsUP_CUOOwn_"
      },
      "source": [
        "#from sklearn.metrics import classification_report\n",
        "#print(classification_report(y_val,pred3))"
      ],
      "execution_count": null,
      "outputs": []
    },
    {
      "cell_type": "code",
      "metadata": {
        "id": "7EweOWJqO33_"
      },
      "source": [
        "#from sklearn.metrics import confusion_matrix\n",
        "#confusion_matrix(y_val,pred3)"
      ],
      "execution_count": null,
      "outputs": []
    },
    {
      "cell_type": "code",
      "metadata": {
        "id": "onXpTyeBO9Fv"
      },
      "source": [
        "#from sklearn.metrics import mean_squared_error\n",
        "#mean_squared_error(y_val, pred3)"
      ],
      "execution_count": null,
      "outputs": []
    },
    {
      "cell_type": "code",
      "metadata": {
        "id": "mCQSlxePTlY2"
      },
      "source": [
        "#from sklearn.metrics import f1_score\n",
        "#f1_score(y_val, pred3, average='macro')"
      ],
      "execution_count": null,
      "outputs": []
    },
    {
      "cell_type": "code",
      "metadata": {
        "id": "pBEQ4o-1UXrx"
      },
      "source": [
        "#from sklearn import metrics\n",
        "#fpr3, tpr3, thresholds3 = metrics.roc_curve(y_val, pred3, pos_label=2)\n",
        "#metrics.auc(fpr3, tpr3)"
      ],
      "execution_count": null,
      "outputs": []
    },
    {
      "cell_type": "code",
      "metadata": {
        "id": "ga390gsEVr7p"
      },
      "source": [
        "#from sklearn.metrics import accuracy_score\n",
        "#accuracy_score(y_val, pred3)"
      ],
      "execution_count": null,
      "outputs": []
    },
    {
      "cell_type": "code",
      "metadata": {
        "id": "CmAg_Z6pokHD"
      },
      "source": [
        "#from sklearn.metrics import recall_score\n",
        "#recall_score(y_val, pred3, average='macro')"
      ],
      "execution_count": null,
      "outputs": []
    },
    {
      "cell_type": "code",
      "metadata": {
        "id": "q791iF9epOTS"
      },
      "source": [
        "#from sklearn.metrics import precision_score\n",
        "#precision_score(y_val, pred3, average='macro')"
      ],
      "execution_count": null,
      "outputs": []
    },
    {
      "cell_type": "markdown",
      "metadata": {
        "id": "8wrPSecGJ5Ck"
      },
      "source": [
        "# New Section"
      ]
    },
    {
      "cell_type": "code",
      "metadata": {
        "id": "NsTi7yn0V9zW"
      },
      "source": [
        "#from sklearn.tree import DecisionTreeClassifier\n",
        "\n",
        "#from sklearn.tree import export_graphviz\n",
        "\n",
        "#from sklearn.tree import export_text\n",
        "\n",
        "#from sklearn import tree\n",
        "\n",
        "#from IPython.display import Image\n",
        "\n",
        " \n",
        "\n",
        "#dt = tree.DecisionTreeClassifier() #create model\n",
        "\n",
        "#fig, ax = plt.subplots(figsize=(14, 14))\n",
        "\n",
        "#tree.plot_tree(dt.fit(X_train, y_train), max_depth=4, fontsize=10,filled=True) #train model\n",
        "\n",
        "#plt.show()"
      ],
      "execution_count": null,
      "outputs": []
    },
    {
      "cell_type": "code",
      "metadata": {
        "id": "or434cY6Jzku"
      },
      "source": [
        "#y_pred = dt.predict(X_test)\n",
        "\n",
        " \n",
        "\n",
        "#y_prob = dt.predict_proba(X_test)\n",
        "\n",
        " \n",
        "\n",
        "#print(\"test\", y_test[:10])\n",
        "\n",
        "#print(\"pred\", y_pred[:10])\n",
        "\n",
        "#print()\n",
        "\n",
        " \n",
        "\n",
        "#print(confusion_matrix(y_test,y_pred))\n",
        "\n",
        "#print(classification_report(y_test, y_pred))"
      ],
      "execution_count": null,
      "outputs": []
    },
    {
      "cell_type": "code",
      "metadata": {
        "id": "-9vyEbmGKMJE"
      },
      "source": [
        "#y_pred2 = dt.predict(X_val)\n",
        "#y_prob = dt.predict_proba(X_val)\n",
        "#print(\"test\", y_val[:10])\n",
        "#print(\"pred\", y_pred2[:10])\n",
        "#print()\n",
        "\n",
        "#print(confusion_matrix(y_val,y_pred2))\n",
        "#print(classification_report(y_val, y_pred2))"
      ],
      "execution_count": null,
      "outputs": []
    },
    {
      "cell_type": "code",
      "metadata": {
        "id": "wMPqupnHKQls"
      },
      "source": [
        "#from sklearn.metrics import accuracy_score\n",
        "\n",
        "#accuracy_score(y_val, y_pred2)"
      ],
      "execution_count": null,
      "outputs": []
    },
    {
      "cell_type": "code",
      "metadata": {
        "id": "jByfHET1KzXy"
      },
      "source": [
        "#y_val.shape"
      ],
      "execution_count": null,
      "outputs": []
    },
    {
      "cell_type": "code",
      "metadata": {
        "id": "OkK_atq9K2Mv"
      },
      "source": [
        "#y_test.shape"
      ],
      "execution_count": null,
      "outputs": []
    },
    {
      "cell_type": "code",
      "metadata": {
        "id": "miOYSaodK9MC"
      },
      "source": [
        "#y_pred.shape"
      ],
      "execution_count": null,
      "outputs": []
    },
    {
      "cell_type": "code",
      "metadata": {
        "id": "RUlsUwkrKpQ-"
      },
      "source": [
        "#from sklearn.metrics import accuracy_score\n",
        "\n",
        "#accuracy_score(y_val, y_pred2)"
      ],
      "execution_count": null,
      "outputs": []
    },
    {
      "cell_type": "code",
      "metadata": {
        "id": "Kw0AxuBaMyGt"
      },
      "source": [
        "#from sklearn.metrics import mean_squared_error\n",
        "#mean_squared_error(y_test, y_pred)"
      ],
      "execution_count": null,
      "outputs": []
    },
    {
      "cell_type": "code",
      "metadata": {
        "id": "c0ClGA3RM3eW"
      },
      "source": [
        "#from sklearn.metrics import mean_squared_error\n",
        "#mean_squared_error(y_val, y_pred2)"
      ],
      "execution_count": null,
      "outputs": []
    },
    {
      "cell_type": "code",
      "metadata": {
        "id": "AbX0p-RPM952"
      },
      "source": [
        "#from sklearn import metrics\n",
        "\n",
        "#fpr, tpr, thresholds = metrics.roc_curve(y_test, y_pred, pos_label=2)\n",
        "\n",
        "#metrics.auc(fpr, tpr)"
      ],
      "execution_count": null,
      "outputs": []
    },
    {
      "cell_type": "code",
      "metadata": {
        "id": "XXBWRq7zNgoq"
      },
      "source": [
        "#from sklearn import metrics\n",
        "\n",
        "#fprdv, tprdv, thresholdsdv = metrics.roc_curve(y_val,y_pred2, pos_label=2)\n",
        "\n",
        "#metrics.auc(fprdv, tprdv)"
      ],
      "execution_count": null,
      "outputs": []
    },
    {
      "cell_type": "code",
      "metadata": {
        "id": "VnHX_HXiNQRm"
      },
      "source": [
        "#from sklearn.metrics import f1_score\n",
        "\n",
        "#f1_score(y_test, y_pred, average='macro')"
      ],
      "execution_count": null,
      "outputs": []
    },
    {
      "cell_type": "code",
      "metadata": {
        "id": "QZ3y1rvzNqHx"
      },
      "source": [
        "#from sklearn.metrics import f1_score\n",
        "\n",
        "#f1_score(y_val, y_pred2, average='macro')"
      ],
      "execution_count": null,
      "outputs": []
    },
    {
      "cell_type": "code",
      "metadata": {
        "id": "D-LFIBwqNVk4"
      },
      "source": [
        "#from sklearn.metrics import precision_score\n",
        "\n",
        "#precision_score(y_test, y_pred, labels=None, pos_label=1, average='macro', sample_weight=None, zero_division='warn')"
      ],
      "execution_count": null,
      "outputs": []
    },
    {
      "cell_type": "code",
      "metadata": {
        "id": "exQ06IxGNuT5"
      },
      "source": [
        "#from sklearn.metrics import precision_score\n",
        "\n",
        "#precision_score(y_val, y_pred2, labels=None, pos_label=1, average='macro', sample_weight=None, zero_division='warn')"
      ],
      "execution_count": null,
      "outputs": []
    },
    {
      "cell_type": "code",
      "metadata": {
        "id": "BDJ0R9ZMNZr5"
      },
      "source": [
        "#from sklearn.metrics import recall_score\n",
        "\n",
        "#recall_score(y_test, y_pred, labels=None, pos_label=1, average='macro', sample_weight=None, zero_division='warn')"
      ],
      "execution_count": null,
      "outputs": []
    },
    {
      "cell_type": "code",
      "metadata": {
        "id": "A0nZ9D8KNyxY"
      },
      "source": [
        "#from sklearn.metrics import recall_score\n",
        "\n",
        "#recall_score(y_val, y_pred2, labels=None, pos_label=1, average='macro', sample_weight=None, zero_division='warn')"
      ],
      "execution_count": null,
      "outputs": []
    },
    {
      "cell_type": "code",
      "metadata": {
        "id": "toI-MzgDiq-E"
      },
      "source": [
        "from sklearn.ensemble import RandomForestClassifier # <- Random Forest Classifier"
      ],
      "execution_count": null,
      "outputs": []
    },
    {
      "cell_type": "code",
      "metadata": {
        "colab": {
          "base_uri": "https://localhost:8080/"
        },
        "id": "8JOXuOyUoHpp",
        "outputId": "9b7735c4-7c15-4abc-8afd-51f9fb114004"
      },
      "source": [
        "rf = RandomForestClassifier(n_estimators = 75, random_state = 50) #Build (no. of estimators can be increased)\n",
        "# Train the model on training data\n",
        "rf.fit(X_train, y_train)"
      ],
      "execution_count": null,
      "outputs": [
        {
          "output_type": "execute_result",
          "data": {
            "text/plain": [
              "RandomForestClassifier(bootstrap=True, ccp_alpha=0.0, class_weight=None,\n",
              "                       criterion='gini', max_depth=None, max_features='auto',\n",
              "                       max_leaf_nodes=None, max_samples=None,\n",
              "                       min_impurity_decrease=0.0, min_impurity_split=None,\n",
              "                       min_samples_leaf=1, min_samples_split=2,\n",
              "                       min_weight_fraction_leaf=0.0, n_estimators=75,\n",
              "                       n_jobs=None, oob_score=False, random_state=50, verbose=0,\n",
              "                       warm_start=False)"
            ]
          },
          "metadata": {
            "tags": []
          },
          "execution_count": 144
        }
      ]
    },
    {
      "cell_type": "code",
      "metadata": {
        "colab": {
          "base_uri": "https://localhost:8080/"
        },
        "id": "7G5O1_Q3oZ07",
        "outputId": "e39a93a8-868d-4391-a228-7a7795c4c779"
      },
      "source": [
        "y_pred_rf =  rf.predict(X_val) #Predict\n",
        "probs = rf.predict_proba(X_val)\n",
        "\n",
        "print(\"test\", y_val[:10])\n",
        "print(\"pred\", y_pred_rf[:10])\n",
        "print(confusion_matrix(y_val,y_pred_rf))\n",
        "print(classification_report(y_val, y_pred_rf))"
      ],
      "execution_count": null,
      "outputs": [
        {
          "output_type": "stream",
          "text": [
            "test [1 0 0 1 3 1 0 1 0 0]\n",
            "pred [1 0 0 1 3 1 0 1 0 0]\n",
            "[[8163  152   27   99]\n",
            " [ 274 5776    2   26]\n",
            " [ 436   31  300  303]\n",
            " [ 449  196   87 1943]]\n",
            "              precision    recall  f1-score   support\n",
            "\n",
            "           0       0.88      0.97      0.92      8441\n",
            "           1       0.94      0.95      0.94      6078\n",
            "           2       0.72      0.28      0.40      1070\n",
            "           3       0.82      0.73      0.77      2675\n",
            "\n",
            "    accuracy                           0.89     18264\n",
            "   macro avg       0.84      0.73      0.76     18264\n",
            "weighted avg       0.88      0.89      0.88     18264\n",
            "\n"
          ],
          "name": "stdout"
        }
      ]
    },
    {
      "cell_type": "code",
      "metadata": {
        "colab": {
          "base_uri": "https://localhost:8080/"
        },
        "id": "GpSuXau8emCy",
        "outputId": "6f270288-197c-4fc2-84e6-5edf04e77530"
      },
      "source": [
        "y_pred_rf2 =  rf.predict(X_test) #Predict\n",
        "probs = rf.predict_proba(X_test)\n",
        "\n",
        "print(\"test\", y_test[:10])\n",
        "print(\"pred\", y_pred_rf2[:10])\n",
        "print(confusion_matrix(y_test,y_pred_rf2))\n",
        "print(classification_report(y_test, y_pred_rf2))"
      ],
      "execution_count": null,
      "outputs": [
        {
          "output_type": "stream",
          "text": [
            "test [0 0 1 1 1 1 2 1 0 0]\n",
            "pred [0 0 1 1 1 0 0 0 0 0]\n",
            "[[7213  147   36   95]\n",
            " [ 254 5015    5   13]\n",
            " [ 384    9  269  294]\n",
            " [ 384  169   65 1763]]\n",
            "              precision    recall  f1-score   support\n",
            "\n",
            "           0       0.88      0.96      0.92      7491\n",
            "           1       0.94      0.95      0.94      5287\n",
            "           2       0.72      0.28      0.40       956\n",
            "           3       0.81      0.74      0.78      2381\n",
            "\n",
            "    accuracy                           0.88     16115\n",
            "   macro avg       0.84      0.73      0.76     16115\n",
            "weighted avg       0.88      0.88      0.87     16115\n",
            "\n"
          ],
          "name": "stdout"
        }
      ]
    },
    {
      "cell_type": "code",
      "metadata": {
        "colab": {
          "base_uri": "https://localhost:8080/"
        },
        "id": "Yz0Xz-xto4p3",
        "outputId": "bfe3e320-88d6-4730-9166-1fc6515f061b"
      },
      "source": [
        "#from sklearn.metrics import mean_squared_error\n",
        "#mean_squared_error(y_val, y_pred_rf)"
      ],
      "execution_count": null,
      "outputs": [
        {
          "output_type": "execute_result",
          "data": {
            "text/plain": [
              "0.46654621112571176"
            ]
          },
          "metadata": {
            "tags": []
          },
          "execution_count": 147
        }
      ]
    },
    {
      "cell_type": "code",
      "metadata": {
        "colab": {
          "base_uri": "https://localhost:8080/"
        },
        "id": "A8rF-GvSdHEc",
        "outputId": "8bd47bb3-ec38-4c74-d00c-a46c689def9b"
      },
      "source": [
        "from sklearn.metrics import mean_squared_error\n",
        "mean_squared_error(y_test, y_pred_rf2)"
      ],
      "execution_count": null,
      "outputs": [
        {
          "output_type": "execute_result",
          "data": {
            "text/plain": [
              "0.4649705243561899"
            ]
          },
          "metadata": {
            "tags": []
          },
          "execution_count": 164
        }
      ]
    },
    {
      "cell_type": "code",
      "metadata": {
        "colab": {
          "base_uri": "https://localhost:8080/"
        },
        "id": "doK9bksFo_td",
        "outputId": "3e1a60bc-2a09-499e-f5a6-34482a1f5879"
      },
      "source": [
        "#from sklearn import metrics\n",
        "#fpr, tpr, thresholds = metrics.roc_curve(y_val, y_pred_rf, pos_label=2)\n",
        "#metrics.auc(fpr, tpr)"
      ],
      "execution_count": null,
      "outputs": [
        {
          "output_type": "execute_result",
          "data": {
            "text/plain": [
              "0.6372803379574923"
            ]
          },
          "metadata": {
            "tags": []
          },
          "execution_count": 148
        }
      ]
    },
    {
      "cell_type": "code",
      "metadata": {
        "colab": {
          "base_uri": "https://localhost:8080/"
        },
        "id": "Ha9mlfrFdrgQ",
        "outputId": "e51018ab-4adb-4257-fc57-029537c1f216"
      },
      "source": [
        "from sklearn import metrics\n",
        "fpr, tpr, thresholds = metrics.roc_curve(y_test, y_pred_rf2, pos_label=2)\n",
        "metrics.auc(fpr, tpr)"
      ],
      "execution_count": null,
      "outputs": [
        {
          "output_type": "execute_result",
          "data": {
            "text/plain": [
              "0.6447669004231574"
            ]
          },
          "metadata": {
            "tags": []
          },
          "execution_count": 165
        }
      ]
    },
    {
      "cell_type": "code",
      "metadata": {
        "colab": {
          "base_uri": "https://localhost:8080/"
        },
        "id": "Hk2A3xdtpHac",
        "outputId": "1d71601d-e9e6-4cab-b017-3adf0298485d"
      },
      "source": [
        "#from sklearn.metrics import f1_score\n",
        "#f1_score(y_val, y_pred_rf, average='macro')"
      ],
      "execution_count": null,
      "outputs": [
        {
          "output_type": "execute_result",
          "data": {
            "text/plain": [
              "0.7593289649772172"
            ]
          },
          "metadata": {
            "tags": []
          },
          "execution_count": 149
        }
      ]
    },
    {
      "cell_type": "code",
      "metadata": {
        "colab": {
          "base_uri": "https://localhost:8080/"
        },
        "id": "fKhgCjBId_zS",
        "outputId": "6ed2c343-ce2f-487b-df7c-fa790edd19ca"
      },
      "source": [
        "from sklearn.metrics import f1_score\n",
        "f1_score(y_test, y_pred_rf2, average='macro')"
      ],
      "execution_count": null,
      "outputs": [
        {
          "output_type": "execute_result",
          "data": {
            "text/plain": [
              "0.760247744433787"
            ]
          },
          "metadata": {
            "tags": []
          },
          "execution_count": 166
        }
      ]
    },
    {
      "cell_type": "code",
      "metadata": {
        "colab": {
          "base_uri": "https://localhost:8080/"
        },
        "id": "5J78Pyx9p5uG",
        "outputId": "f559afd7-78a1-4b3c-8cbb-01f8bdf06d16"
      },
      "source": [
        "#from sklearn.metrics import accuracy_score\n",
        "#accuracy_score(y_val, y_pred_rf)"
      ],
      "execution_count": null,
      "outputs": [
        {
          "output_type": "execute_result",
          "data": {
            "text/plain": [
              "0.8860052562417872"
            ]
          },
          "metadata": {
            "tags": []
          },
          "execution_count": 150
        }
      ]
    },
    {
      "cell_type": "code",
      "metadata": {
        "colab": {
          "base_uri": "https://localhost:8080/"
        },
        "id": "AedOJZeJeNgZ",
        "outputId": "ecde5ef9-2898-4119-e952-d6f335b92aad"
      },
      "source": [
        "from sklearn.metrics import accuracy_score\n",
        "accuracy_score(y_test, y_pred_rf2)"
      ],
      "execution_count": null,
      "outputs": [
        {
          "output_type": "execute_result",
          "data": {
            "text/plain": [
              "0.8848898541731306"
            ]
          },
          "metadata": {
            "tags": []
          },
          "execution_count": 167
        }
      ]
    },
    {
      "cell_type": "code",
      "metadata": {
        "colab": {
          "base_uri": "https://localhost:8080/"
        },
        "id": "RhFUVvVjqG-e",
        "outputId": "51a19700-95bc-4d4d-9048-430d356642b1"
      },
      "source": [
        "#from sklearn.metrics import precision_score\n",
        "#precision_score(y_val, y_pred_rf, labels=None, pos_label=1, average='macro', sample_weight=None, zero_division='warn')"
      ],
      "execution_count": null,
      "outputs": [
        {
          "output_type": "execute_result",
          "data": {
            "text/plain": [
              "0.8386834494515897"
            ]
          },
          "metadata": {
            "tags": []
          },
          "execution_count": 151
        }
      ]
    },
    {
      "cell_type": "code",
      "metadata": {
        "colab": {
          "base_uri": "https://localhost:8080/"
        },
        "id": "Q45WsLODerNs",
        "outputId": "9c8eee97-b4ad-4db9-a63b-085c22cd26e2"
      },
      "source": [
        "from sklearn.metrics import precision_score\n",
        "precision_score(y_test, y_pred_rf2, labels=None, pos_label=1, average='macro', sample_weight=None, zero_division='warn')"
      ],
      "execution_count": null,
      "outputs": [
        {
          "output_type": "execute_result",
          "data": {
            "text/plain": [
              "0.8366715461271663"
            ]
          },
          "metadata": {
            "tags": []
          },
          "execution_count": 168
        }
      ]
    },
    {
      "cell_type": "code",
      "metadata": {
        "colab": {
          "base_uri": "https://localhost:8080/"
        },
        "id": "FCmhzObjqTsl",
        "outputId": "18cd17d6-1e48-416d-e906-15dfd7b7caa5"
      },
      "source": [
        "#from sklearn.metrics import recall_score\n",
        "#recall_score(y_val, y_pred_rf, labels=None, pos_label=1, average='macro', sample_weight=None, zero_division='warn')"
      ],
      "execution_count": null,
      "outputs": [
        {
          "output_type": "execute_result",
          "data": {
            "text/plain": [
              "0.7310267720893096"
            ]
          },
          "metadata": {
            "tags": []
          },
          "execution_count": 152
        }
      ]
    },
    {
      "cell_type": "code",
      "metadata": {
        "colab": {
          "base_uri": "https://localhost:8080/"
        },
        "id": "iW44ZBldfGR8",
        "outputId": "87421fc0-b204-49f5-d5a2-439f3c7a2fa1"
      },
      "source": [
        "from sklearn.metrics import recall_score\n",
        "recall_score(y_test, y_pred_rf2, labels=None, pos_label=1, average='macro', sample_weight=None, zero_division='warn')"
      ],
      "execution_count": null,
      "outputs": [
        {
          "output_type": "execute_result",
          "data": {
            "text/plain": [
              "0.7333169496974595"
            ]
          },
          "metadata": {
            "tags": []
          },
          "execution_count": 169
        }
      ]
    },
    {
      "cell_type": "code",
      "metadata": {
        "id": "7YkzJSGQqiC7"
      },
      "source": [
        "from sklearn.ensemble import GradientBoostingClassifier\n",
        "from sklearn import metrics"
      ],
      "execution_count": null,
      "outputs": []
    },
    {
      "cell_type": "code",
      "metadata": {
        "id": "LysgQc_0qo90"
      },
      "source": [
        "#gb = GradientBoostingClassifier(n_estimators = 75, random_state = 50)\n",
        "#gb.fit(X_train, y_train)"
      ],
      "execution_count": null,
      "outputs": []
    },
    {
      "cell_type": "code",
      "metadata": {
        "id": "26InXuW1q07Y"
      },
      "source": [
        "#y_pred_gb = gb.predict(X_val)\n",
        "#gb_probs = gb.predict_proba(X_val)\n",
        "\n",
        "#print(\"test\", y_val[:10])\n",
        "#print(\"pred\", y_pred_gb[:10])\n",
        "#print(confusion_matrix(y_val,y_pred_gb))\n",
        "#print(classification_report(y_val, y_pred_gb))"
      ],
      "execution_count": null,
      "outputs": []
    },
    {
      "cell_type": "code",
      "metadata": {
        "id": "yH4z38zbrHcY"
      },
      "source": [
        "#from sklearn.metrics import mean_squared_error\n",
        "#mean_squared_error(y_val, y_pred_gb)"
      ],
      "execution_count": null,
      "outputs": []
    },
    {
      "cell_type": "code",
      "metadata": {
        "id": "_nBR0BeUrPWS"
      },
      "source": [
        "#from sklearn import metrics\n",
        "#fpr, tpr, thresholds = metrics.roc_curve(y_val, y_pred_gb, pos_label=2)\n",
        "#metrics.auc(fpr, tpr)"
      ],
      "execution_count": null,
      "outputs": []
    },
    {
      "cell_type": "code",
      "metadata": {
        "id": "ZHfdOxhas5eg"
      },
      "source": [
        "#from sklearn.metrics import f1_score\n",
        "#f1_score(y_val, y_pred_gb, average='macro')"
      ],
      "execution_count": null,
      "outputs": []
    },
    {
      "cell_type": "code",
      "metadata": {
        "id": "r_UcEluis_4l"
      },
      "source": [
        "#from sklearn.metrics import accuracy_score\n",
        "#accuracy_score(y_val, y_pred_gb)"
      ],
      "execution_count": null,
      "outputs": []
    },
    {
      "cell_type": "code",
      "metadata": {
        "id": "vdeLQZ1AtFzC"
      },
      "source": [
        "#from sklearn.metrics import precision_score\n",
        "#precision_score(y_val, y_pred_gb, labels=None, pos_label=1, average='macro', sample_weight=None, zero_division='warn')\n"
      ],
      "execution_count": null,
      "outputs": []
    },
    {
      "cell_type": "code",
      "metadata": {
        "id": "E3ZGcKOxtKPJ"
      },
      "source": [
        "#from sklearn.metrics import recall_score\n",
        "#recall_score(y_val, y_pred_gb, labels=None, pos_label=1, average='macro', sample_weight=None, zero_division='warn')"
      ],
      "execution_count": null,
      "outputs": []
    },
    {
      "cell_type": "code",
      "metadata": {
        "id": "wWpsC85RxDpe"
      },
      "source": [
        "#from sklearn.svm import SVC\n",
        "\n",
        "#svm_clf = SVC(gamma=\"auto\")\n",
        "#svm_clf.fit(X_train, y_train)"
      ],
      "execution_count": null,
      "outputs": []
    },
    {
      "cell_type": "code",
      "metadata": {
        "id": "Pi8F_2oh8l80"
      },
      "source": [
        "#y_pred_sv =  svm_clf.predict(X_val) #Predict\n",
        "\n",
        "#print(\"test\", y_val[:10])\n",
        "#print(\"pred\", y_pred_sv[:10])\n",
        "#print(confusion_matrix(y_val,y_pred_sv))\n",
        "#print(classification_report(y_val, y_pred_sv))"
      ],
      "execution_count": null,
      "outputs": []
    }
  ]
}